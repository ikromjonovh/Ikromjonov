{
 "cells": [
  {
   "cell_type": "code",
   "execution_count": 1,
   "id": "7fb8282d",
   "metadata": {
    "_cell_guid": "b1076dfc-b9ad-4769-8c92-a6c4dae69d19",
    "_uuid": "8f2839f25d086af736a60e9eeb907d3b93b6e0e5",
    "execution": {
     "iopub.execute_input": "2024-02-06T14:13:38.506539Z",
     "iopub.status.busy": "2024-02-06T14:13:38.506105Z",
     "iopub.status.idle": "2024-02-06T14:13:39.584413Z",
     "shell.execute_reply": "2024-02-06T14:13:39.583206Z"
    },
    "papermill": {
     "duration": 1.097279,
     "end_time": "2024-02-06T14:13:39.587210",
     "exception": false,
     "start_time": "2024-02-06T14:13:38.489931",
     "status": "completed"
    },
    "tags": []
   },
   "outputs": [
    {
     "name": "stdout",
     "output_type": "stream",
     "text": [
      "/kaggle/input/air-ticket/train_data.csv\n",
      "/kaggle/input/air-ticket/test_data.csv\n",
      "/kaggle/input/air-ticket/sample_solution.csv\n"
     ]
    }
   ],
   "source": [
    "# This Python 3 environment comes with many helpful analytics libraries installed\n",
    "# It is defined by the kaggle/python Docker image: https://github.com/kaggle/docker-python\n",
    "# For example, here's several helpful packages to load\n",
    "\n",
    "import numpy as np # linear algebra\n",
    "import pandas as pd # data processing, CSV file I/O (e.g. pd.read_csv)\n",
    "\n",
    "# Input data files are available in the read-only \"../input/\" directory\n",
    "# For example, running this (by clicking run or pressing Shift+Enter) will list all files under the input directory\n",
    "\n",
    "import os\n",
    "for dirname, _, filenames in os.walk('/kaggle/input'):\n",
    "    for filename in filenames:\n",
    "        print(os.path.join(dirname, filename))\n",
    "\n",
    "# You can write up to 20GB to the current directory (/kaggle/working/) that gets preserved as output when you create a version using \"Save & Run All\" \n",
    "# You can also write temporary files to /kaggle/temp/, but they won't be saved outside of the current session"
   ]
  },
  {
   "cell_type": "markdown",
   "id": "08cc609e",
   "metadata": {
    "papermill": {
     "duration": 0.01396,
     "end_time": "2024-02-06T14:13:39.615364",
     "exception": false,
     "start_time": "2024-02-06T14:13:39.601404",
     "status": "completed"
    },
    "tags": []
   },
   "source": [
    "**Assalamu alaykum, our task is to create model that predicts price of air ticket, let's jump in to the problem**\n",
    "\n",
    "First we have import all libraries those we use to solve this problem."
   ]
  },
  {
   "cell_type": "code",
   "execution_count": 2,
   "id": "333573aa",
   "metadata": {
    "execution": {
     "iopub.execute_input": "2024-02-06T14:13:39.646092Z",
     "iopub.status.busy": "2024-02-06T14:13:39.645104Z",
     "iopub.status.idle": "2024-02-06T14:13:42.528947Z",
     "shell.execute_reply": "2024-02-06T14:13:42.527919Z"
    },
    "papermill": {
     "duration": 2.902397,
     "end_time": "2024-02-06T14:13:42.532023",
     "exception": false,
     "start_time": "2024-02-06T14:13:39.629626",
     "status": "completed"
    },
    "tags": []
   },
   "outputs": [],
   "source": [
    "from sklearn.pipeline import Pipeline, FeatureUnion\n",
    "from sklearn.compose import ColumnTransformer, TransformedTargetRegressor\n",
    "from sklearn.impute import SimpleImputer\n",
    "from sklearn.preprocessing import StandardScaler, OneHotEncoder\n",
    "from sklearn.ensemble import RandomForestRegressor\n",
    "from xgboost import XGBRegressor\n",
    "from sklearn.ensemble import StackingRegressor\n",
    "from sklearn.linear_model import Lasso\n",
    "from sklearn.model_selection import train_test_split\n",
    "from sklearn.metrics import mean_squared_error\n",
    "from sklearn.preprocessing import FunctionTransformer\n",
    "from sklearn.model_selection import StratifiedShuffleSplit\n",
    "import pandas as pd\n",
    "import numpy as  np\n",
    "import matplotlib.pyplot as plt\n",
    "%matplotlib inline\n",
    "import seaborn as sns"
   ]
  },
  {
   "cell_type": "markdown",
   "id": "e096313a",
   "metadata": {
    "papermill": {
     "duration": 0.014476,
     "end_time": "2024-02-06T14:13:42.560163",
     "exception": false,
     "start_time": "2024-02-06T14:13:42.545687",
     "status": "completed"
    },
    "tags": []
   },
   "source": [
    "**Then we download our train data.**"
   ]
  },
  {
   "cell_type": "code",
   "execution_count": 3,
   "id": "0376dba9",
   "metadata": {
    "execution": {
     "iopub.execute_input": "2024-02-06T14:13:42.591264Z",
     "iopub.status.busy": "2024-02-06T14:13:42.589919Z",
     "iopub.status.idle": "2024-02-06T14:13:42.721631Z",
     "shell.execute_reply": "2024-02-06T14:13:42.720404Z"
    },
    "papermill": {
     "duration": 0.150412,
     "end_time": "2024-02-06T14:13:42.724519",
     "exception": false,
     "start_time": "2024-02-06T14:13:42.574107",
     "status": "completed"
    },
    "tags": []
   },
   "outputs": [
    {
     "data": {
      "text/html": [
       "<div>\n",
       "<style scoped>\n",
       "    .dataframe tbody tr th:only-of-type {\n",
       "        vertical-align: middle;\n",
       "    }\n",
       "\n",
       "    .dataframe tbody tr th {\n",
       "        vertical-align: top;\n",
       "    }\n",
       "\n",
       "    .dataframe thead th {\n",
       "        text-align: right;\n",
       "    }\n",
       "</style>\n",
       "<table border=\"1\" class=\"dataframe\">\n",
       "  <thead>\n",
       "    <tr style=\"text-align: right;\">\n",
       "      <th></th>\n",
       "      <th>airline</th>\n",
       "      <th>flight</th>\n",
       "      <th>source_city</th>\n",
       "      <th>departure_time</th>\n",
       "      <th>stops</th>\n",
       "      <th>arrival_time</th>\n",
       "      <th>destination_city</th>\n",
       "      <th>class</th>\n",
       "      <th>duration</th>\n",
       "      <th>days_left</th>\n",
       "      <th>price</th>\n",
       "    </tr>\n",
       "    <tr>\n",
       "      <th>id</th>\n",
       "      <th></th>\n",
       "      <th></th>\n",
       "      <th></th>\n",
       "      <th></th>\n",
       "      <th></th>\n",
       "      <th></th>\n",
       "      <th></th>\n",
       "      <th></th>\n",
       "      <th></th>\n",
       "      <th></th>\n",
       "      <th></th>\n",
       "    </tr>\n",
       "  </thead>\n",
       "  <tbody>\n",
       "    <tr>\n",
       "      <th>1</th>\n",
       "      <td>Vistara</td>\n",
       "      <td>UK-810</td>\n",
       "      <td>Bangalore</td>\n",
       "      <td>Early_Morning</td>\n",
       "      <td>one</td>\n",
       "      <td>Night</td>\n",
       "      <td>Mumbai</td>\n",
       "      <td>Economy</td>\n",
       "      <td>14.25</td>\n",
       "      <td>21</td>\n",
       "      <td>7212</td>\n",
       "    </tr>\n",
       "    <tr>\n",
       "      <th>2</th>\n",
       "      <td>SpiceJet</td>\n",
       "      <td>SG-5094</td>\n",
       "      <td>Hyderabad</td>\n",
       "      <td>Evening</td>\n",
       "      <td>zero</td>\n",
       "      <td>Night</td>\n",
       "      <td>Kolkata</td>\n",
       "      <td>Economy</td>\n",
       "      <td>1.75</td>\n",
       "      <td>7</td>\n",
       "      <td>5292</td>\n",
       "    </tr>\n",
       "    <tr>\n",
       "      <th>3</th>\n",
       "      <td>Vistara</td>\n",
       "      <td>UK-846</td>\n",
       "      <td>Bangalore</td>\n",
       "      <td>Morning</td>\n",
       "      <td>one</td>\n",
       "      <td>Evening</td>\n",
       "      <td>Delhi</td>\n",
       "      <td>Business</td>\n",
       "      <td>9.58</td>\n",
       "      <td>5</td>\n",
       "      <td>60553</td>\n",
       "    </tr>\n",
       "    <tr>\n",
       "      <th>4</th>\n",
       "      <td>Vistara</td>\n",
       "      <td>UK-706</td>\n",
       "      <td>Kolkata</td>\n",
       "      <td>Morning</td>\n",
       "      <td>one</td>\n",
       "      <td>Evening</td>\n",
       "      <td>Hyderabad</td>\n",
       "      <td>Economy</td>\n",
       "      <td>6.75</td>\n",
       "      <td>28</td>\n",
       "      <td>5760</td>\n",
       "    </tr>\n",
       "    <tr>\n",
       "      <th>5</th>\n",
       "      <td>Indigo</td>\n",
       "      <td>6E-5394</td>\n",
       "      <td>Chennai</td>\n",
       "      <td>Early_Morning</td>\n",
       "      <td>zero</td>\n",
       "      <td>Morning</td>\n",
       "      <td>Mumbai</td>\n",
       "      <td>Economy</td>\n",
       "      <td>2.00</td>\n",
       "      <td>4</td>\n",
       "      <td>10712</td>\n",
       "    </tr>\n",
       "  </tbody>\n",
       "</table>\n",
       "</div>"
      ],
      "text/plain": [
       "     airline   flight source_city departure_time stops arrival_time  \\\n",
       "id                                                                    \n",
       "1    Vistara   UK-810   Bangalore  Early_Morning   one        Night   \n",
       "2   SpiceJet  SG-5094   Hyderabad        Evening  zero        Night   \n",
       "3    Vistara   UK-846   Bangalore        Morning   one      Evening   \n",
       "4    Vistara   UK-706     Kolkata        Morning   one      Evening   \n",
       "5     Indigo  6E-5394     Chennai  Early_Morning  zero      Morning   \n",
       "\n",
       "   destination_city     class  duration  days_left  price  \n",
       "id                                                         \n",
       "1            Mumbai   Economy     14.25         21   7212  \n",
       "2           Kolkata   Economy      1.75          7   5292  \n",
       "3             Delhi  Business      9.58          5  60553  \n",
       "4         Hyderabad   Economy      6.75         28   5760  \n",
       "5            Mumbai   Economy      2.00          4  10712  "
      ]
     },
     "execution_count": 3,
     "metadata": {},
     "output_type": "execute_result"
    }
   ],
   "source": [
    "df = pd.read_csv('/kaggle/input/air-ticket/train_data.csv', index_col=0)\n",
    "\n",
    "df.head()"
   ]
  },
  {
   "cell_type": "markdown",
   "id": "e004657d",
   "metadata": {
    "papermill": {
     "duration": 0.013567,
     "end_time": "2024-02-06T14:13:42.752433",
     "exception": false,
     "start_time": "2024-02-06T14:13:42.738866",
     "status": "completed"
    },
    "tags": []
   },
   "source": [
    "**We do some analysis on this data.**"
   ]
  },
  {
   "cell_type": "code",
   "execution_count": 4,
   "id": "9bf4f9e4",
   "metadata": {
    "execution": {
     "iopub.execute_input": "2024-02-06T14:13:42.782030Z",
     "iopub.status.busy": "2024-02-06T14:13:42.781564Z",
     "iopub.status.idle": "2024-02-06T14:13:42.788333Z",
     "shell.execute_reply": "2024-02-06T14:13:42.787278Z"
    },
    "papermill": {
     "duration": 0.02455,
     "end_time": "2024-02-06T14:13:42.790782",
     "exception": false,
     "start_time": "2024-02-06T14:13:42.766232",
     "status": "completed"
    },
    "tags": []
   },
   "outputs": [
    {
     "data": {
      "text/plain": [
       "(20000, 11)"
      ]
     },
     "execution_count": 4,
     "metadata": {},
     "output_type": "execute_result"
    }
   ],
   "source": [
    "df.shape"
   ]
  },
  {
   "cell_type": "code",
   "execution_count": 5,
   "id": "c9820686",
   "metadata": {
    "execution": {
     "iopub.execute_input": "2024-02-06T14:13:42.821033Z",
     "iopub.status.busy": "2024-02-06T14:13:42.820549Z",
     "iopub.status.idle": "2024-02-06T14:13:42.866354Z",
     "shell.execute_reply": "2024-02-06T14:13:42.865464Z"
    },
    "papermill": {
     "duration": 0.063998,
     "end_time": "2024-02-06T14:13:42.868828",
     "exception": false,
     "start_time": "2024-02-06T14:13:42.804830",
     "status": "completed"
    },
    "tags": []
   },
   "outputs": [
    {
     "name": "stdout",
     "output_type": "stream",
     "text": [
      "<class 'pandas.core.frame.DataFrame'>\n",
      "Index: 20000 entries, 1 to 20000\n",
      "Data columns (total 11 columns):\n",
      " #   Column            Non-Null Count  Dtype  \n",
      "---  ------            --------------  -----  \n",
      " 0   airline           20000 non-null  object \n",
      " 1   flight            20000 non-null  object \n",
      " 2   source_city       20000 non-null  object \n",
      " 3   departure_time    20000 non-null  object \n",
      " 4   stops             20000 non-null  object \n",
      " 5   arrival_time      20000 non-null  object \n",
      " 6   destination_city  20000 non-null  object \n",
      " 7   class             20000 non-null  object \n",
      " 8   duration          20000 non-null  float64\n",
      " 9   days_left         20000 non-null  int64  \n",
      " 10  price             20000 non-null  int64  \n",
      "dtypes: float64(1), int64(2), object(8)\n",
      "memory usage: 1.8+ MB\n"
     ]
    }
   ],
   "source": [
    "df.info()"
   ]
  },
  {
   "cell_type": "markdown",
   "id": "87be771c",
   "metadata": {
    "papermill": {
     "duration": 0.014135,
     "end_time": "2024-02-06T14:13:42.897465",
     "exception": false,
     "start_time": "2024-02-06T14:13:42.883330",
     "status": "completed"
    },
    "tags": []
   },
   "source": [
    "**You can see there is not any null values in or data, which means very good.**\n",
    "\n",
    "**Now we draw some beautifull diagramms**"
   ]
  },
  {
   "cell_type": "code",
   "execution_count": 6,
   "id": "ed6cb1c8",
   "metadata": {
    "execution": {
     "iopub.execute_input": "2024-02-06T14:13:42.929264Z",
     "iopub.status.busy": "2024-02-06T14:13:42.928208Z",
     "iopub.status.idle": "2024-02-06T14:13:43.216584Z",
     "shell.execute_reply": "2024-02-06T14:13:43.215296Z"
    },
    "jupyter": {
     "source_hidden": true
    },
    "papermill": {
     "duration": 0.306996,
     "end_time": "2024-02-06T14:13:43.219200",
     "exception": false,
     "start_time": "2024-02-06T14:13:42.912204",
     "status": "completed"
    },
    "tags": []
   },
   "outputs": [
    {
     "data": {
      "image/png": "[encoded data removed]",
      "text/plain": [
       "<Figure size 640x480 with 1 Axes>"
      ]
     },
     "metadata": {},
     "output_type": "display_data"
    }
   ],
   "source": [
    "df_by_airline = df.groupby(by='airline')['price'].mean()\n",
    "\n",
    "if isinstance(df_by_airline, pd.DataFrame):\n",
    "    sns.barplot(data=df_by_airline, x=df_by_airline.index, y='price')\n",
    "else:\n",
    "    sns.barplot(data=df_by_airline.reset_index(), x='airline', y='price')\n",
    "\n",
    "plt.xlabel('Airline')\n",
    "plt.ylabel('Mean Price')\n",
    "plt.title('Mean Price by Airline')\n",
    "plt.show()"
   ]
  },
  {
   "cell_type": "markdown",
   "id": "f701face",
   "metadata": {
    "papermill": {
     "duration": 0.01435,
     "end_time": "2024-02-06T14:13:43.248770",
     "exception": false,
     "start_time": "2024-02-06T14:13:43.234420",
     "status": "completed"
    },
    "tags": []
   },
   "source": [
    "**You can see here mean price of tickets from Air India and Vistara are more more expensive then others.**"
   ]
  },
  {
   "cell_type": "code",
   "execution_count": 7,
   "id": "9fab71f5",
   "metadata": {
    "execution": {
     "iopub.execute_input": "2024-02-06T14:13:43.280819Z",
     "iopub.status.busy": "2024-02-06T14:13:43.280352Z",
     "iopub.status.idle": "2024-02-06T14:13:44.392398Z",
     "shell.execute_reply": "2024-02-06T14:13:44.391332Z"
    },
    "jupyter": {
     "source_hidden": true
    },
    "papermill": {
     "duration": 1.137352,
     "end_time": "2024-02-06T14:13:44.400885",
     "exception": false,
     "start_time": "2024-02-06T14:13:43.263533",
     "status": "completed"
    },
    "tags": []
   },
   "outputs": [
    {
     "data": {
      "image/png": "[encoded data removed]",
      "text/plain": [
       "<Figure size 640x480 with 1 Axes>"
      ]
     },
     "metadata": {},
     "output_type": "display_data"
    }
   ],
   "source": [
    "sns.scatterplot(data=df, x='duration', y='price', hue='class')\n",
    "plt.title('Scatter Plot of Duration vs Price (Colored by Class)')\n",
    "plt.show()"
   ]
  },
  {
   "cell_type": "markdown",
   "id": "0eea9eb9",
   "metadata": {
    "papermill": {
     "duration": 0.019214,
     "end_time": "2024-02-06T14:13:44.441603",
     "exception": false,
     "start_time": "2024-02-06T14:13:44.422389",
     "status": "completed"
    },
    "tags": []
   },
   "source": [
    "**You can see here correlation between duration of flight and price, dots with orange color are business class tickets, and with blue colors are economy class.**\n",
    "\n",
    "**Here is correlation between price and other numeric columns.**"
   ]
  },
  {
   "cell_type": "code",
   "execution_count": 8,
   "id": "67f4211d",
   "metadata": {
    "execution": {
     "iopub.execute_input": "2024-02-06T14:13:44.482256Z",
     "iopub.status.busy": "2024-02-06T14:13:44.481042Z",
     "iopub.status.idle": "2024-02-06T14:13:44.492158Z",
     "shell.execute_reply": "2024-02-06T14:13:44.490812Z"
    },
    "papermill": {
     "duration": 0.033549,
     "end_time": "2024-02-06T14:13:44.494546",
     "exception": false,
     "start_time": "2024-02-06T14:13:44.460997",
     "status": "completed"
    },
    "tags": []
   },
   "outputs": [
    {
     "name": "stdout",
     "output_type": "stream",
     "text": [
      "duration     0.213158\n",
      "days_left   -0.102545\n",
      "price        1.000000\n",
      "Name: price, dtype: float64\n"
     ]
    }
   ],
   "source": [
    "numeric_columns = df.select_dtypes(include=[np.number])\n",
    "correlation_result = numeric_columns.corr()['price']\n",
    "print(correlation_result)"
   ]
  },
  {
   "cell_type": "markdown",
   "id": "d7e599b1",
   "metadata": {
    "papermill": {
     "duration": 0.019844,
     "end_time": "2024-02-06T14:13:44.533453",
     "exception": false,
     "start_time": "2024-02-06T14:13:44.513609",
     "status": "completed"
    },
    "tags": []
   },
   "source": [
    "**And now it is time to create new features.**\n",
    "\n",
    "**Every flight has its own flight code, let's say 30 people is flying in one airplane, these 30 people have the same flight code in their tickets. Correlation between flight code and price is if number of tickets that belong to one flight is more price of tickets will be chipper, otherwise if tickets are less price will be expensive due to heigher demand.**\n",
    "\n",
    "**We create a feature named 'number_of_tickets' which refers number of tickets that belong to same flight.**"
   ]
  },
  {
   "cell_type": "code",
   "execution_count": 9,
   "id": "c3336851",
   "metadata": {
    "execution": {
     "iopub.execute_input": "2024-02-06T14:13:44.575945Z",
     "iopub.status.busy": "2024-02-06T14:13:44.575108Z",
     "iopub.status.idle": "2024-02-06T14:15:12.714731Z",
     "shell.execute_reply": "2024-02-06T14:15:12.713538Z"
    },
    "papermill": {
     "duration": 88.164651,
     "end_time": "2024-02-06T14:15:12.717999",
     "exception": false,
     "start_time": "2024-02-06T14:13:44.553348",
     "status": "completed"
    },
    "tags": []
   },
   "outputs": [],
   "source": [
    "def number_of_tickets(code):\n",
    "    return len(df[df['flight'] == code])\n",
    "\n",
    "df['number_of_tickets'] = df['flight'].map(lambda x: number_of_tickets(x))"
   ]
  },
  {
   "cell_type": "code",
   "execution_count": 10,
   "id": "6d256232",
   "metadata": {
    "execution": {
     "iopub.execute_input": "2024-02-06T14:15:12.756986Z",
     "iopub.status.busy": "2024-02-06T14:15:12.756524Z",
     "iopub.status.idle": "2024-02-06T14:15:12.768403Z",
     "shell.execute_reply": "2024-02-06T14:15:12.766977Z"
    },
    "papermill": {
     "duration": 0.03425,
     "end_time": "2024-02-06T14:15:12.770868",
     "exception": false,
     "start_time": "2024-02-06T14:15:12.736618",
     "status": "completed"
    },
    "tags": []
   },
   "outputs": [
    {
     "name": "stdout",
     "output_type": "stream",
     "text": [
      "duration             0.213158\n",
      "days_left           -0.102545\n",
      "price                1.000000\n",
      "number_of_tickets    0.375029\n",
      "Name: price, dtype: float64\n"
     ]
    }
   ],
   "source": [
    "numeric_columns = df.select_dtypes(include=[np.number])\n",
    "correlation_result = numeric_columns.corr()['price']\n",
    "print(correlation_result)"
   ]
  },
  {
   "cell_type": "markdown",
   "id": "df49c683",
   "metadata": {
    "papermill": {
     "duration": 0.018028,
     "end_time": "2024-02-06T14:15:12.807148",
     "exception": false,
     "start_time": "2024-02-06T14:15:12.789120",
     "status": "completed"
    },
    "tags": []
   },
   "source": [
    "**Correlation between new feature that we have create and price is heigher than others, which is very very useful for accuracy of our model.**\n",
    "\n",
    "**I found that to two airlines, Vistara and Air India have both business and economy class, others have only economy class, so we create a feature that inform wheather airline has business class.**"
   ]
  },
  {
   "cell_type": "code",
   "execution_count": 11,
   "id": "5bf35da7",
   "metadata": {
    "execution": {
     "iopub.execute_input": "2024-02-06T14:15:12.846808Z",
     "iopub.status.busy": "2024-02-06T14:15:12.845620Z",
     "iopub.status.idle": "2024-02-06T14:15:12.857281Z",
     "shell.execute_reply": "2024-02-06T14:15:12.856097Z"
    },
    "papermill": {
     "duration": 0.034143,
     "end_time": "2024-02-06T14:15:12.859857",
     "exception": false,
     "start_time": "2024-02-06T14:15:12.825714",
     "status": "completed"
    },
    "tags": []
   },
   "outputs": [],
   "source": [
    "have_business_dict = {\n",
    "    'Vistara': 'yes',\n",
    "    'SpiceJet': 'no',\n",
    "    'Indigo': 'no',\n",
    "    'Air_India': 'yes',\n",
    "    'GO_FIRST': 'no',\n",
    "    'AirAsia': 'no'\n",
    "}\n",
    "\n",
    "df['have_business'] = df['airline'].map(have_business_dict)"
   ]
  },
  {
   "cell_type": "markdown",
   "id": "90e0ac8d",
   "metadata": {
    "papermill": {
     "duration": 0.018207,
     "end_time": "2024-02-06T14:15:12.896547",
     "exception": false,
     "start_time": "2024-02-06T14:15:12.878340",
     "status": "completed"
    },
    "tags": []
   },
   "source": [
    "**Some flights have no division, some others have one, if airplace stops one time flight have 2 division, if stops 2 times it has 3 division.**"
   ]
  },
  {
   "cell_type": "code",
   "execution_count": 12,
   "id": "20b66a41",
   "metadata": {
    "execution": {
     "iopub.execute_input": "2024-02-06T14:15:12.935490Z",
     "iopub.status.busy": "2024-02-06T14:15:12.935037Z",
     "iopub.status.idle": "2024-02-06T14:15:12.945405Z",
     "shell.execute_reply": "2024-02-06T14:15:12.944179Z"
    },
    "papermill": {
     "duration": 0.033177,
     "end_time": "2024-02-06T14:15:12.948068",
     "exception": false,
     "start_time": "2024-02-06T14:15:12.914891",
     "status": "completed"
    },
    "tags": []
   },
   "outputs": [],
   "source": [
    "division_of_flight = {\n",
    "    'zero': 1,\n",
    "    'one': 2,\n",
    "    'two_or_more': 3\n",
    "}\n",
    "\n",
    "df['division_of_flight'] = df['stops'].map(division_of_flight)"
   ]
  },
  {
   "cell_type": "markdown",
   "id": "ede6bf6b",
   "metadata": {
    "papermill": {
     "duration": 0.018231,
     "end_time": "2024-02-06T14:15:12.985026",
     "exception": false,
     "start_time": "2024-02-06T14:15:12.966795",
     "status": "completed"
    },
    "tags": []
   },
   "source": [
    "**I think these features are enough to do ML, I created many other features, but instead of improves accuracy of model they worseden accuracy.**\n",
    "\n",
    "**It is time to split the dataframe into train and test parts, we use Stratified Shuffle Split to do this.**"
   ]
  },
  {
   "cell_type": "code",
   "execution_count": 13,
   "id": "a304df0c",
   "metadata": {
    "execution": {
     "iopub.execute_input": "2024-02-06T14:15:13.024118Z",
     "iopub.status.busy": "2024-02-06T14:15:13.023670Z",
     "iopub.status.idle": "2024-02-06T14:15:13.080447Z",
     "shell.execute_reply": "2024-02-06T14:15:13.079184Z"
    },
    "papermill": {
     "duration": 0.079991,
     "end_time": "2024-02-06T14:15:13.083452",
     "exception": false,
     "start_time": "2024-02-06T14:15:13.003461",
     "status": "completed"
    },
    "tags": []
   },
   "outputs": [],
   "source": [
    "from sklearn.model_selection import StratifiedShuffleSplit\n",
    "\n",
    "df['price_group'] = pd.cut(df['price'], bins=[0, 5000, 10000, 20000, 50000, 200000], labels=['0-5k', '5k-10k', '10k-20k', '20k-50k', '50k-200k'], include_lowest=True)\n",
    "\n",
    "# Assuming 'df' is your DataFrame and 'price_group' is the target variable\n",
    "stratified_splitter = StratifiedShuffleSplit(n_splits=1, test_size=0.1, random_state=42)\n",
    "\n",
    "for train_index, test_index in stratified_splitter.split(df, df['price_group']):\n",
    "    train_set = df.iloc[train_index]\n",
    "    test_set = df.iloc[test_index]"
   ]
  },
  {
   "cell_type": "markdown",
   "id": "08e035be",
   "metadata": {
    "papermill": {
     "duration": 0.018043,
     "end_time": "2024-02-06T14:15:13.119871",
     "exception": false,
     "start_time": "2024-02-06T14:15:13.101828",
     "status": "completed"
    },
    "tags": []
   },
   "source": [
    "**We split both train and test set into X and y parts.**"
   ]
  },
  {
   "cell_type": "code",
   "execution_count": 14,
   "id": "c35a1884",
   "metadata": {
    "execution": {
     "iopub.execute_input": "2024-02-06T14:15:13.158902Z",
     "iopub.status.busy": "2024-02-06T14:15:13.158185Z",
     "iopub.status.idle": "2024-02-06T14:15:13.170537Z",
     "shell.execute_reply": "2024-02-06T14:15:13.169233Z"
    },
    "papermill": {
     "duration": 0.035538,
     "end_time": "2024-02-06T14:15:13.173585",
     "exception": false,
     "start_time": "2024-02-06T14:15:13.138047",
     "status": "completed"
    },
    "tags": []
   },
   "outputs": [],
   "source": [
    "X_train = train_set.drop(['price'], axis=1)\n",
    "X_test  = test_set.drop(['price'], axis=1)\n",
    "\n",
    "y_train = train_set['price'].copy()\n",
    "y_test  = test_set['price'].copy()"
   ]
  },
  {
   "cell_type": "markdown",
   "id": "5664c82d",
   "metadata": {
    "papermill": {
     "duration": 0.01904,
     "end_time": "2024-02-06T14:15:13.211296",
     "exception": false,
     "start_time": "2024-02-06T14:15:13.192256",
     "status": "completed"
    },
    "tags": []
   },
   "source": [
    "**Now we prepare both train and test data to Machine learning with multiple steps, like One Hot Encoding, Standard Scaling.**"
   ]
  },
  {
   "cell_type": "code",
   "execution_count": 15,
   "id": "b754c1c0",
   "metadata": {
    "execution": {
     "iopub.execute_input": "2024-02-06T14:15:13.251250Z",
     "iopub.status.busy": "2024-02-06T14:15:13.250274Z",
     "iopub.status.idle": "2024-02-06T14:15:13.264165Z",
     "shell.execute_reply": "2024-02-06T14:15:13.262994Z"
    },
    "papermill": {
     "duration": 0.036768,
     "end_time": "2024-02-06T14:15:13.266773",
     "exception": false,
     "start_time": "2024-02-06T14:15:13.230005",
     "status": "completed"
    },
    "tags": []
   },
   "outputs": [],
   "source": [
    "cat_columns = ['airline', 'source_city', 'departure_time', 'stops', 'arrival_time', 'destination_city', 'class', 'have_business']\n",
    "num_columns = ['duration', 'days_left', 'division_of_flight', 'number_of_tickets']\n",
    "\n",
    "train_num = X_train[num_columns]\n",
    "\n",
    "test_num = X_test[num_columns]\n",
    "\n",
    "train_cat = X_train[cat_columns]\n",
    "\n",
    "test_cat = X_test[cat_columns]"
   ]
  },
  {
   "cell_type": "code",
   "execution_count": 16,
   "id": "fc6f2270",
   "metadata": {
    "execution": {
     "iopub.execute_input": "2024-02-06T14:15:13.306507Z",
     "iopub.status.busy": "2024-02-06T14:15:13.306023Z",
     "iopub.status.idle": "2024-02-06T14:15:13.383050Z",
     "shell.execute_reply": "2024-02-06T14:15:13.381280Z"
    },
    "papermill": {
     "duration": 0.100384,
     "end_time": "2024-02-06T14:15:13.386033",
     "exception": false,
     "start_time": "2024-02-06T14:15:13.285649",
     "status": "completed"
    },
    "tags": []
   },
   "outputs": [],
   "source": [
    "one_hot_encoder = OneHotEncoder()\n",
    "\n",
    "cat_one_hot = one_hot_encoder.fit_transform(train_cat)\n",
    "\n",
    "test_cat_one_hot = one_hot_encoder.fit_transform(test_cat)"
   ]
  },
  {
   "cell_type": "code",
   "execution_count": 17,
   "id": "dd606690",
   "metadata": {
    "execution": {
     "iopub.execute_input": "2024-02-06T14:15:13.426843Z",
     "iopub.status.busy": "2024-02-06T14:15:13.426386Z",
     "iopub.status.idle": "2024-02-06T14:15:13.440917Z",
     "shell.execute_reply": "2024-02-06T14:15:13.439766Z"
    },
    "papermill": {
     "duration": 0.038566,
     "end_time": "2024-02-06T14:15:13.443686",
     "exception": false,
     "start_time": "2024-02-06T14:15:13.405120",
     "status": "completed"
    },
    "tags": []
   },
   "outputs": [],
   "source": [
    "standard_scaler = StandardScaler()\n",
    "\n",
    "num_standard_scaler = standard_scaler.fit_transform(train_num)\n",
    "\n",
    "test_num_standard_scaler = standard_scaler.fit_transform(test_num)"
   ]
  },
  {
   "cell_type": "code",
   "execution_count": 18,
   "id": "054784fa",
   "metadata": {
    "execution": {
     "iopub.execute_input": "2024-02-06T14:15:13.485640Z",
     "iopub.status.busy": "2024-02-06T14:15:13.484435Z",
     "iopub.status.idle": "2024-02-06T14:15:13.509365Z",
     "shell.execute_reply": "2024-02-06T14:15:13.508164Z"
    },
    "papermill": {
     "duration": 0.048384,
     "end_time": "2024-02-06T14:15:13.512374",
     "exception": false,
     "start_time": "2024-02-06T14:15:13.463990",
     "status": "completed"
    },
    "tags": []
   },
   "outputs": [],
   "source": [
    "cat_one_hot_dense = cat_one_hot.toarray()\n",
    "\n",
    "final_train = np.hstack((cat_one_hot_dense, num_standard_scaler))\n",
    "\n",
    "final_X_train = pd.DataFrame(final_train, columns=np.concatenate((one_hot_encoder.get_feature_names_out(), train_num.columns)), index=X_train.index)"
   ]
  },
  {
   "cell_type": "code",
   "execution_count": 19,
   "id": "11097a4b",
   "metadata": {
    "execution": {
     "iopub.execute_input": "2024-02-06T14:15:13.552646Z",
     "iopub.status.busy": "2024-02-06T14:15:13.552179Z",
     "iopub.status.idle": "2024-02-06T14:15:13.560155Z",
     "shell.execute_reply": "2024-02-06T14:15:13.558890Z"
    },
    "papermill": {
     "duration": 0.031344,
     "end_time": "2024-02-06T14:15:13.562821",
     "exception": false,
     "start_time": "2024-02-06T14:15:13.531477",
     "status": "completed"
    },
    "tags": []
   },
   "outputs": [],
   "source": [
    "cat_one_hot_dense = test_cat_one_hot.toarray()\n",
    "\n",
    "final_test = np.hstack((cat_one_hot_dense, test_num_standard_scaler))\n",
    "\n",
    "final_X_test = pd.DataFrame(final_test, columns=np.concatenate((one_hot_encoder.get_feature_names_out(), test_num.columns)), index=X_test.index)"
   ]
  },
  {
   "cell_type": "markdown",
   "id": "8990158b",
   "metadata": {
    "papermill": {
     "duration": 0.018962,
     "end_time": "2024-02-06T14:15:13.600734",
     "exception": false,
     "start_time": "2024-02-06T14:15:13.581772",
     "status": "completed"
    },
    "tags": []
   },
   "source": [
    "**Finally we do Machine Learning, I chose Random Forest Regression and XGB Regressor to create model.**"
   ]
  },
  {
   "cell_type": "code",
   "execution_count": 20,
   "id": "7e47067d",
   "metadata": {
    "execution": {
     "iopub.execute_input": "2024-02-06T14:15:13.640359Z",
     "iopub.status.busy": "2024-02-06T14:15:13.639668Z",
     "iopub.status.idle": "2024-02-06T14:17:39.422798Z",
     "shell.execute_reply": "2024-02-06T14:17:39.421641Z"
    },
    "papermill": {
     "duration": 145.806104,
     "end_time": "2024-02-06T14:17:39.425784",
     "exception": false,
     "start_time": "2024-02-06T14:15:13.619680",
     "status": "completed"
    },
    "tags": []
   },
   "outputs": [
    {
     "name": "stderr",
     "output_type": "stream",
     "text": [
      "/opt/conda/lib/python3.10/site-packages/sklearn/linear_model/_coordinate_descent.py:631: ConvergenceWarning: Objective did not converge. You might want to increase the number of iterations, check the scale of the features or consider increasing regularisation. Duality gap: 1.027e+11, tolerance: 9.328e+08\n",
      "  model = cd_fast.enet_coordinate_descent(\n"
     ]
    },
    {
     "data": {
      "text/plain": [
       "3258.242643232634"
      ]
     },
     "execution_count": 20,
     "metadata": {},
     "output_type": "execute_result"
    }
   ],
   "source": [
    "# Initialize base models\n",
    "base_models = [\n",
    "    ('rf', RandomForestRegressor(\n",
    "        n_estimators=300,\n",
    "        criterion='squared_error',\n",
    "        max_depth=None,\n",
    "        min_samples_split=2,\n",
    "        min_samples_leaf=1,\n",
    "        #max_features='auto',  # You can also use 'sqrt' or an integer value\n",
    "        bootstrap=True,\n",
    "        random_state=42,\n",
    "        n_jobs=-10\n",
    "    )),\n",
    "    ('xgb', XGBRegressor())\n",
    "]\n",
    "\n",
    "# Initialize stacking regressor with a meta-model\n",
    "stacking_model = StackingRegressor(estimators=base_models, final_estimator=Lasso(alpha=0.1))\n",
    "\n",
    "# Train the stacking model\n",
    "stacking_model.fit(final_X_train, y_train)\n",
    "\n",
    "# Make predictions on the test set\n",
    "y_pred = stacking_model.predict(final_X_test)\n",
    "\n",
    "# Evaluate the model\n",
    "np.sqrt(mean_squared_error(y_test, y_pred))"
   ]
  },
  {
   "cell_type": "markdown",
   "id": "36072201",
   "metadata": {
    "papermill": {
     "duration": 0.018756,
     "end_time": "2024-02-06T14:17:39.465389",
     "exception": false,
     "start_time": "2024-02-06T14:17:39.446633",
     "status": "completed"
    },
    "tags": []
   },
   "source": [
    "😎😎😎😎\n",
    "\n",
    "\n",
    "**RMSE of our model is 3258, the treshold is 3280.01117.\n",
    "**\n",
    "\n",
    "**Now we have to predict test data to sumbission.**"
   ]
  },
  {
   "cell_type": "code",
   "execution_count": 21,
   "id": "07ab74a7",
   "metadata": {
    "execution": {
     "iopub.execute_input": "2024-02-06T14:17:39.506708Z",
     "iopub.status.busy": "2024-02-06T14:17:39.506191Z",
     "iopub.status.idle": "2024-02-06T14:17:39.558013Z",
     "shell.execute_reply": "2024-02-06T14:17:39.556631Z"
    },
    "papermill": {
     "duration": 0.076241,
     "end_time": "2024-02-06T14:17:39.561458",
     "exception": false,
     "start_time": "2024-02-06T14:17:39.485217",
     "status": "completed"
    },
    "tags": []
   },
   "outputs": [
    {
     "data": {
      "text/html": [
       "<div>\n",
       "<style scoped>\n",
       "    .dataframe tbody tr th:only-of-type {\n",
       "        vertical-align: middle;\n",
       "    }\n",
       "\n",
       "    .dataframe tbody tr th {\n",
       "        vertical-align: top;\n",
       "    }\n",
       "\n",
       "    .dataframe thead th {\n",
       "        text-align: right;\n",
       "    }\n",
       "</style>\n",
       "<table border=\"1\" class=\"dataframe\">\n",
       "  <thead>\n",
       "    <tr style=\"text-align: right;\">\n",
       "      <th></th>\n",
       "      <th>airline</th>\n",
       "      <th>flight</th>\n",
       "      <th>source_city</th>\n",
       "      <th>departure_time</th>\n",
       "      <th>stops</th>\n",
       "      <th>arrival_time</th>\n",
       "      <th>destination_city</th>\n",
       "      <th>class</th>\n",
       "      <th>duration</th>\n",
       "      <th>days_left</th>\n",
       "      <th>price</th>\n",
       "      <th>number_of_tickets</th>\n",
       "      <th>have_business</th>\n",
       "      <th>division_of_flight</th>\n",
       "      <th>price_group</th>\n",
       "    </tr>\n",
       "    <tr>\n",
       "      <th>id</th>\n",
       "      <th></th>\n",
       "      <th></th>\n",
       "      <th></th>\n",
       "      <th></th>\n",
       "      <th></th>\n",
       "      <th></th>\n",
       "      <th></th>\n",
       "      <th></th>\n",
       "      <th></th>\n",
       "      <th></th>\n",
       "      <th></th>\n",
       "      <th></th>\n",
       "      <th></th>\n",
       "      <th></th>\n",
       "      <th></th>\n",
       "    </tr>\n",
       "  </thead>\n",
       "  <tbody>\n",
       "    <tr>\n",
       "      <th>1</th>\n",
       "      <td>Vistara</td>\n",
       "      <td>UK-810</td>\n",
       "      <td>Bangalore</td>\n",
       "      <td>Early_Morning</td>\n",
       "      <td>one</td>\n",
       "      <td>Night</td>\n",
       "      <td>Mumbai</td>\n",
       "      <td>Economy</td>\n",
       "      <td>14.25</td>\n",
       "      <td>21</td>\n",
       "      <td>7212</td>\n",
       "      <td>126</td>\n",
       "      <td>yes</td>\n",
       "      <td>2</td>\n",
       "      <td>5k-10k</td>\n",
       "    </tr>\n",
       "    <tr>\n",
       "      <th>2</th>\n",
       "      <td>SpiceJet</td>\n",
       "      <td>SG-5094</td>\n",
       "      <td>Hyderabad</td>\n",
       "      <td>Evening</td>\n",
       "      <td>zero</td>\n",
       "      <td>Night</td>\n",
       "      <td>Kolkata</td>\n",
       "      <td>Economy</td>\n",
       "      <td>1.75</td>\n",
       "      <td>7</td>\n",
       "      <td>5292</td>\n",
       "      <td>2</td>\n",
       "      <td>no</td>\n",
       "      <td>1</td>\n",
       "      <td>5k-10k</td>\n",
       "    </tr>\n",
       "    <tr>\n",
       "      <th>3</th>\n",
       "      <td>Vistara</td>\n",
       "      <td>UK-846</td>\n",
       "      <td>Bangalore</td>\n",
       "      <td>Morning</td>\n",
       "      <td>one</td>\n",
       "      <td>Evening</td>\n",
       "      <td>Delhi</td>\n",
       "      <td>Business</td>\n",
       "      <td>9.58</td>\n",
       "      <td>5</td>\n",
       "      <td>60553</td>\n",
       "      <td>94</td>\n",
       "      <td>yes</td>\n",
       "      <td>2</td>\n",
       "      <td>50k-200k</td>\n",
       "    </tr>\n",
       "    <tr>\n",
       "      <th>4</th>\n",
       "      <td>Vistara</td>\n",
       "      <td>UK-706</td>\n",
       "      <td>Kolkata</td>\n",
       "      <td>Morning</td>\n",
       "      <td>one</td>\n",
       "      <td>Evening</td>\n",
       "      <td>Hyderabad</td>\n",
       "      <td>Economy</td>\n",
       "      <td>6.75</td>\n",
       "      <td>28</td>\n",
       "      <td>5760</td>\n",
       "      <td>208</td>\n",
       "      <td>yes</td>\n",
       "      <td>2</td>\n",
       "      <td>5k-10k</td>\n",
       "    </tr>\n",
       "    <tr>\n",
       "      <th>5</th>\n",
       "      <td>Indigo</td>\n",
       "      <td>6E-5394</td>\n",
       "      <td>Chennai</td>\n",
       "      <td>Early_Morning</td>\n",
       "      <td>zero</td>\n",
       "      <td>Morning</td>\n",
       "      <td>Mumbai</td>\n",
       "      <td>Economy</td>\n",
       "      <td>2.00</td>\n",
       "      <td>4</td>\n",
       "      <td>10712</td>\n",
       "      <td>8</td>\n",
       "      <td>no</td>\n",
       "      <td>1</td>\n",
       "      <td>10k-20k</td>\n",
       "    </tr>\n",
       "  </tbody>\n",
       "</table>\n",
       "</div>"
      ],
      "text/plain": [
       "     airline   flight source_city departure_time stops arrival_time  \\\n",
       "id                                                                    \n",
       "1    Vistara   UK-810   Bangalore  Early_Morning   one        Night   \n",
       "2   SpiceJet  SG-5094   Hyderabad        Evening  zero        Night   \n",
       "3    Vistara   UK-846   Bangalore        Morning   one      Evening   \n",
       "4    Vistara   UK-706     Kolkata        Morning   one      Evening   \n",
       "5     Indigo  6E-5394     Chennai  Early_Morning  zero      Morning   \n",
       "\n",
       "   destination_city     class  duration  days_left  price  number_of_tickets  \\\n",
       "id                                                                             \n",
       "1            Mumbai   Economy     14.25         21   7212                126   \n",
       "2           Kolkata   Economy      1.75          7   5292                  2   \n",
       "3             Delhi  Business      9.58          5  60553                 94   \n",
       "4         Hyderabad   Economy      6.75         28   5760                208   \n",
       "5            Mumbai   Economy      2.00          4  10712                  8   \n",
       "\n",
       "   have_business  division_of_flight price_group  \n",
       "id                                                \n",
       "1            yes                   2      5k-10k  \n",
       "2             no                   1      5k-10k  \n",
       "3            yes                   2    50k-200k  \n",
       "4            yes                   2      5k-10k  \n",
       "5             no                   1     10k-20k  "
      ]
     },
     "execution_count": 21,
     "metadata": {},
     "output_type": "execute_result"
    }
   ],
   "source": [
    "test_df = pd.read_csv('/kaggle/input/air-ticket/test_data.csv')\n",
    "df.head()"
   ]
  },
  {
   "cell_type": "code",
   "execution_count": 22,
   "id": "052755a4",
   "metadata": {
    "execution": {
     "iopub.execute_input": "2024-02-06T14:17:39.692947Z",
     "iopub.status.busy": "2024-02-06T14:17:39.692085Z",
     "iopub.status.idle": "2024-02-06T14:18:02.950384Z",
     "shell.execute_reply": "2024-02-06T14:18:02.948989Z"
    },
    "papermill": {
     "duration": 23.282877,
     "end_time": "2024-02-06T14:18:02.953714",
     "exception": false,
     "start_time": "2024-02-06T14:17:39.670837",
     "status": "completed"
    },
    "tags": []
   },
   "outputs": [],
   "source": [
    "test_df['number_of_tickets'] = test_df['flight'].map(lambda x: number_of_tickets(x))"
   ]
  },
  {
   "cell_type": "code",
   "execution_count": 23,
   "id": "ecc1400d",
   "metadata": {
    "execution": {
     "iopub.execute_input": "2024-02-06T14:18:02.996355Z",
     "iopub.status.busy": "2024-02-06T14:18:02.995530Z",
     "iopub.status.idle": "2024-02-06T14:18:03.005269Z",
     "shell.execute_reply": "2024-02-06T14:18:03.003882Z"
    },
    "papermill": {
     "duration": 0.034485,
     "end_time": "2024-02-06T14:18:03.008512",
     "exception": false,
     "start_time": "2024-02-06T14:18:02.974027",
     "status": "completed"
    },
    "tags": []
   },
   "outputs": [],
   "source": [
    "have_business_dict = {\n",
    "    'Vistara': 'yes',\n",
    "    'SpiceJet': 'no',\n",
    "    'Indigo': 'no',\n",
    "    'Air_India': 'yes',\n",
    "    'GO_FIRST': 'no',\n",
    "    'AirAsia': 'no'\n",
    "}\n",
    "\n",
    "test_df['have_business'] = test_df['airline'].map(have_business_dict)"
   ]
  },
  {
   "cell_type": "code",
   "execution_count": 24,
   "id": "74694aad",
   "metadata": {
    "execution": {
     "iopub.execute_input": "2024-02-06T14:18:03.050784Z",
     "iopub.status.busy": "2024-02-06T14:18:03.050292Z",
     "iopub.status.idle": "2024-02-06T14:18:03.058860Z",
     "shell.execute_reply": "2024-02-06T14:18:03.057434Z"
    },
    "papermill": {
     "duration": 0.032993,
     "end_time": "2024-02-06T14:18:03.061614",
     "exception": false,
     "start_time": "2024-02-06T14:18:03.028621",
     "status": "completed"
    },
    "tags": []
   },
   "outputs": [],
   "source": [
    "division_of_flight = {\n",
    "    'zero': 1,\n",
    "    'one': 2,\n",
    "    'two_or_more': 3\n",
    "}\n",
    "\n",
    "test_df['division_of_flight'] = test_df['stops'].map(division_of_flight)"
   ]
  },
  {
   "cell_type": "code",
   "execution_count": 25,
   "id": "dcc2a571",
   "metadata": {
    "execution": {
     "iopub.execute_input": "2024-02-06T14:18:03.104318Z",
     "iopub.status.busy": "2024-02-06T14:18:03.103262Z",
     "iopub.status.idle": "2024-02-06T14:18:03.111791Z",
     "shell.execute_reply": "2024-02-06T14:18:03.110881Z"
    },
    "papermill": {
     "duration": 0.032671,
     "end_time": "2024-02-06T14:18:03.114463",
     "exception": false,
     "start_time": "2024-02-06T14:18:03.081792",
     "status": "completed"
    },
    "tags": []
   },
   "outputs": [],
   "source": [
    "cat_columns = ['airline', 'source_city', 'departure_time', 'stops', 'arrival_time', 'destination_city', 'class', 'have_business']\n",
    "num_columns = ['duration', 'days_left', 'division_of_flight', 'number_of_tickets']\n",
    "\n",
    "test_num = test_df[num_columns]\n",
    "\n",
    "test_cat = test_df[cat_columns]"
   ]
  },
  {
   "cell_type": "code",
   "execution_count": 26,
   "id": "8d73042f",
   "metadata": {
    "execution": {
     "iopub.execute_input": "2024-02-06T14:18:03.158726Z",
     "iopub.status.busy": "2024-02-06T14:18:03.157562Z",
     "iopub.status.idle": "2024-02-06T14:18:03.183485Z",
     "shell.execute_reply": "2024-02-06T14:18:03.182066Z"
    },
    "papermill": {
     "duration": 0.051786,
     "end_time": "2024-02-06T14:18:03.186563",
     "exception": false,
     "start_time": "2024-02-06T14:18:03.134777",
     "status": "completed"
    },
    "tags": []
   },
   "outputs": [],
   "source": [
    "one_hot_encoder = OneHotEncoder()\n",
    "\n",
    "test_cat_one_hot = one_hot_encoder.fit_transform(test_cat)"
   ]
  },
  {
   "cell_type": "code",
   "execution_count": 27,
   "id": "43df3490",
   "metadata": {
    "execution": {
     "iopub.execute_input": "2024-02-06T14:18:03.228979Z",
     "iopub.status.busy": "2024-02-06T14:18:03.228488Z",
     "iopub.status.idle": "2024-02-06T14:18:03.239505Z",
     "shell.execute_reply": "2024-02-06T14:18:03.238586Z"
    },
    "papermill": {
     "duration": 0.034782,
     "end_time": "2024-02-06T14:18:03.242060",
     "exception": false,
     "start_time": "2024-02-06T14:18:03.207278",
     "status": "completed"
    },
    "tags": []
   },
   "outputs": [],
   "source": [
    "standard_scaler = StandardScaler()\n",
    "\n",
    "test_num_standard_scaler = standard_scaler.fit_transform(test_num)"
   ]
  },
  {
   "cell_type": "code",
   "execution_count": 28,
   "id": "9caa3760",
   "metadata": {
    "execution": {
     "iopub.execute_input": "2024-02-06T14:18:03.283936Z",
     "iopub.status.busy": "2024-02-06T14:18:03.283210Z",
     "iopub.status.idle": "2024-02-06T14:18:03.293368Z",
     "shell.execute_reply": "2024-02-06T14:18:03.292278Z"
    },
    "papermill": {
     "duration": 0.034048,
     "end_time": "2024-02-06T14:18:03.296110",
     "exception": false,
     "start_time": "2024-02-06T14:18:03.262062",
     "status": "completed"
    },
    "tags": []
   },
   "outputs": [],
   "source": [
    "cat_one_hot_dense = test_cat_one_hot.toarray()\n",
    "\n",
    "final_test = np.hstack((cat_one_hot_dense, test_num_standard_scaler))\n",
    "\n",
    "final_test = pd.DataFrame(final_test, columns=np.concatenate((one_hot_encoder.get_feature_names_out(), test_num.columns)), index=test_df.index)"
   ]
  },
  {
   "cell_type": "code",
   "execution_count": 29,
   "id": "dcb6b1cb",
   "metadata": {
    "execution": {
     "iopub.execute_input": "2024-02-06T14:18:03.338995Z",
     "iopub.status.busy": "2024-02-06T14:18:03.338475Z",
     "iopub.status.idle": "2024-02-06T14:18:03.824684Z",
     "shell.execute_reply": "2024-02-06T14:18:03.823005Z"
    },
    "papermill": {
     "duration": 0.512327,
     "end_time": "2024-02-06T14:18:03.829102",
     "exception": false,
     "start_time": "2024-02-06T14:18:03.316775",
     "status": "completed"
    },
    "tags": []
   },
   "outputs": [],
   "source": [
    "test_prediction = stacking_model.predict(final_test)"
   ]
  },
  {
   "cell_type": "code",
   "execution_count": 30,
   "id": "11c1d2bc",
   "metadata": {
    "execution": {
     "iopub.execute_input": "2024-02-06T14:18:03.920092Z",
     "iopub.status.busy": "2024-02-06T14:18:03.919265Z",
     "iopub.status.idle": "2024-02-06T14:18:03.939264Z",
     "shell.execute_reply": "2024-02-06T14:18:03.938363Z"
    },
    "papermill": {
     "duration": 0.06711,
     "end_time": "2024-02-06T14:18:03.941673",
     "exception": false,
     "start_time": "2024-02-06T14:18:03.874563",
     "status": "completed"
    },
    "tags": []
   },
   "outputs": [
    {
     "data": {
      "text/html": [
       "<div>\n",
       "<style scoped>\n",
       "    .dataframe tbody tr th:only-of-type {\n",
       "        vertical-align: middle;\n",
       "    }\n",
       "\n",
       "    .dataframe tbody tr th {\n",
       "        vertical-align: top;\n",
       "    }\n",
       "\n",
       "    .dataframe thead th {\n",
       "        text-align: right;\n",
       "    }\n",
       "</style>\n",
       "<table border=\"1\" class=\"dataframe\">\n",
       "  <thead>\n",
       "    <tr style=\"text-align: right;\">\n",
       "      <th></th>\n",
       "      <th>id</th>\n",
       "      <th>price</th>\n",
       "    </tr>\n",
       "  </thead>\n",
       "  <tbody>\n",
       "    <tr>\n",
       "      <th>0</th>\n",
       "      <td>0</td>\n",
       "      <td>52985.031757</td>\n",
       "    </tr>\n",
       "    <tr>\n",
       "      <th>1</th>\n",
       "      <td>1</td>\n",
       "      <td>56627.490017</td>\n",
       "    </tr>\n",
       "    <tr>\n",
       "      <th>2</th>\n",
       "      <td>2</td>\n",
       "      <td>23077.919861</td>\n",
       "    </tr>\n",
       "    <tr>\n",
       "      <th>3</th>\n",
       "      <td>3</td>\n",
       "      <td>2990.478480</td>\n",
       "    </tr>\n",
       "    <tr>\n",
       "      <th>4</th>\n",
       "      <td>4</td>\n",
       "      <td>5778.864193</td>\n",
       "    </tr>\n",
       "  </tbody>\n",
       "</table>\n",
       "</div>"
      ],
      "text/plain": [
       "   id         price\n",
       "0   0  52985.031757\n",
       "1   1  56627.490017\n",
       "2   2  23077.919861\n",
       "3   3   2990.478480\n",
       "4   4   5778.864193"
      ]
     },
     "execution_count": 30,
     "metadata": {},
     "output_type": "execute_result"
    }
   ],
   "source": [
    "submission_df = pd.DataFrame({\n",
    "    'id': test_df.index,\n",
    "    'price': test_prediction\n",
    "})\n",
    "\n",
    "submission_df.head()"
   ]
  },
  {
   "cell_type": "code",
   "execution_count": 31,
   "id": "312c1c5b",
   "metadata": {
    "execution": {
     "iopub.execute_input": "2024-02-06T14:18:03.985152Z",
     "iopub.status.busy": "2024-02-06T14:18:03.984417Z",
     "iopub.status.idle": "2024-02-06T14:18:04.009784Z",
     "shell.execute_reply": "2024-02-06T14:18:04.008462Z"
    },
    "papermill": {
     "duration": 0.050748,
     "end_time": "2024-02-06T14:18:04.012860",
     "exception": false,
     "start_time": "2024-02-06T14:18:03.962112",
     "status": "completed"
    },
    "tags": []
   },
   "outputs": [],
   "source": [
    "submission_df.to_csv('submission.csv', index=False)"
   ]
  }
 ],
 "metadata": {
  "kaggle": {
   "accelerator": "none",
   "dataSources": [
    {
     "datasetId": 4403292,
     "sourceId": 7562218,
     "sourceType": "datasetVersion"
    }
   ],
   "dockerImageVersionId": 30646,
   "isGpuEnabled": false,
   "isInternetEnabled": true,
   "language": "python",
   "sourceType": "notebook"
  },
  "kernelspec": {
   "display_name": "Python 3",
   "language": "python",
   "name": "python3"
  },
  "language_info": {
   "codemirror_mode": {
    "name": "ipython",
    "version": 3
   },
   "file_extension": ".py",
   "mimetype": "text/x-python",
   "name": "python",
   "nbconvert_exporter": "python",
   "pygments_lexer": "ipython3",
   "version": "3.10.13"
  },
  "papermill": {
   "default_parameters": {},
   "duration": 269.905373,
   "end_time": "2024-02-06T14:18:05.059044",
   "environment_variables": {},
   "exception": null,
   "input_path": "__notebook__.ipynb",
   "output_path": "__notebook__.ipynb",
   "parameters": {},
   "start_time": "2024-02-06T14:13:35.153671",
   "version": "2.5.0"
  }
 },
 "nbformat": 4,
 "nbformat_minor": 5
}
