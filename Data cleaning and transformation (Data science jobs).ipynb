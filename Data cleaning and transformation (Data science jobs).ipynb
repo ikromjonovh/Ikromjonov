{
 "cells": [
  {
   "cell_type": "code",
   "execution_count": 1,
   "id": "48c92272",
   "metadata": {
    "_cell_guid": "b1076dfc-b9ad-4769-8c92-a6c4dae69d19",
    "_uuid": "8f2839f25d086af736a60e9eeb907d3b93b6e0e5",
    "execution": {
     "iopub.execute_input": "2024-02-16T13:35:23.466762Z",
     "iopub.status.busy": "2024-02-16T13:35:23.466085Z",
     "iopub.status.idle": "2024-02-16T13:35:24.510412Z",
     "shell.execute_reply": "2024-02-16T13:35:24.509493Z"
    },
    "papermill": {
     "duration": 1.056376,
     "end_time": "2024-02-16T13:35:24.513675",
     "exception": false,
     "start_time": "2024-02-16T13:35:23.457299",
     "status": "completed"
    },
    "tags": []
   },
   "outputs": [
    {
     "name": "stdout",
     "output_type": "stream",
     "text": [
      "/kaggle/input/data-science-job-posting-on-glassdoor/Uncleaned_DS_jobs.csv\n",
      "/kaggle/input/data-science-job-posting-on-glassdoor/Cleaned_DS_Jobs.csv\n"
     ]
    }
   ],
   "source": [
    "# This Python 3 environment comes with many helpful analytics libraries installed\n",
    "# It is defined by the kaggle/python Docker image: https://github.com/kaggle/docker-python\n",
    "# For example, here's several helpful packages to load\n",
    "\n",
    "import numpy as np # linear algebra\n",
    "import pandas as pd # data processing, CSV file I/O (e.g. pd.read_csv)\n",
    "\n",
    "# Input data files are available in the read-only \"../input/\" directory\n",
    "# For example, running this (by clicking run or pressing Shift+Enter) will list all files under the input directory\n",
    "\n",
    "import os\n",
    "for dirname, _, filenames in os.walk('/kaggle/input'):\n",
    "    for filename in filenames:\n",
    "        print(os.path.join(dirname, filename))\n",
    "\n",
    "# You can write up to 20GB to the current directory (/kaggle/working/) that gets preserved as output when you create a version using \"Save & Run All\" \n",
    "# You can also write temporary files to /kaggle/temp/, but they won't be saved outside of the current session"
   ]
  },
  {
   "cell_type": "markdown",
   "id": "31ba50c1",
   "metadata": {
    "papermill": {
     "duration": 0.005905,
     "end_time": "2024-02-16T13:35:24.526085",
     "exception": false,
     "start_time": "2024-02-16T13:35:24.520180",
     "status": "completed"
    },
    "tags": []
   },
   "source": [
    "# Introduction\n",
    "\n",
    "Our goal is to clean and prepare data for analysing.\n",
    "\n",
    "This is the dataframe which we should work on."
   ]
  },
  {
   "cell_type": "code",
   "execution_count": 2,
   "id": "4c32a1f4",
   "metadata": {
    "execution": {
     "iopub.execute_input": "2024-02-16T13:35:24.539987Z",
     "iopub.status.busy": "2024-02-16T13:35:24.539513Z",
     "iopub.status.idle": "2024-02-16T13:35:24.645048Z",
     "shell.execute_reply": "2024-02-16T13:35:24.644142Z"
    },
    "papermill": {
     "duration": 0.115106,
     "end_time": "2024-02-16T13:35:24.647343",
     "exception": false,
     "start_time": "2024-02-16T13:35:24.532237",
     "status": "completed"
    },
    "tags": []
   },
   "outputs": [
    {
     "data": {
      "text/html": [
       "<div>\n",
       "<style scoped>\n",
       "    .dataframe tbody tr th:only-of-type {\n",
       "        vertical-align: middle;\n",
       "    }\n",
       "\n",
       "    .dataframe tbody tr th {\n",
       "        vertical-align: top;\n",
       "    }\n",
       "\n",
       "    .dataframe thead th {\n",
       "        text-align: right;\n",
       "    }\n",
       "</style>\n",
       "<table border=\"1\" class=\"dataframe\">\n",
       "  <thead>\n",
       "    <tr style=\"text-align: right;\">\n",
       "      <th></th>\n",
       "      <th>Job Title</th>\n",
       "      <th>Salary Estimate</th>\n",
       "      <th>Job Description</th>\n",
       "      <th>Rating</th>\n",
       "      <th>Company Name</th>\n",
       "      <th>Location</th>\n",
       "      <th>Headquarters</th>\n",
       "      <th>Size</th>\n",
       "      <th>Founded</th>\n",
       "      <th>Type of ownership</th>\n",
       "      <th>Industry</th>\n",
       "      <th>Sector</th>\n",
       "      <th>Revenue</th>\n",
       "      <th>Competitors</th>\n",
       "    </tr>\n",
       "    <tr>\n",
       "      <th>index</th>\n",
       "      <th></th>\n",
       "      <th></th>\n",
       "      <th></th>\n",
       "      <th></th>\n",
       "      <th></th>\n",
       "      <th></th>\n",
       "      <th></th>\n",
       "      <th></th>\n",
       "      <th></th>\n",
       "      <th></th>\n",
       "      <th></th>\n",
       "      <th></th>\n",
       "      <th></th>\n",
       "      <th></th>\n",
       "    </tr>\n",
       "  </thead>\n",
       "  <tbody>\n",
       "    <tr>\n",
       "      <th>0</th>\n",
       "      <td>Sr Data Scientist</td>\n",
       "      <td>$137K-$171K (Glassdoor est.)</td>\n",
       "      <td>Description\\n\\nThe Senior Data Scientist is re...</td>\n",
       "      <td>3.1</td>\n",
       "      <td>Healthfirst\\n3.1</td>\n",
       "      <td>New York, NY</td>\n",
       "      <td>New York, NY</td>\n",
       "      <td>1001 to 5000 employees</td>\n",
       "      <td>1993</td>\n",
       "      <td>Nonprofit Organization</td>\n",
       "      <td>Insurance Carriers</td>\n",
       "      <td>Insurance</td>\n",
       "      <td>Unknown / Non-Applicable</td>\n",
       "      <td>EmblemHealth, UnitedHealth Group, Aetna</td>\n",
       "    </tr>\n",
       "    <tr>\n",
       "      <th>1</th>\n",
       "      <td>Data Scientist</td>\n",
       "      <td>$137K-$171K (Glassdoor est.)</td>\n",
       "      <td>Secure our Nation, Ignite your Future\\n\\nJoin ...</td>\n",
       "      <td>4.2</td>\n",
       "      <td>ManTech\\n4.2</td>\n",
       "      <td>Chantilly, VA</td>\n",
       "      <td>Herndon, VA</td>\n",
       "      <td>5001 to 10000 employees</td>\n",
       "      <td>1968</td>\n",
       "      <td>Company - Public</td>\n",
       "      <td>Research &amp; Development</td>\n",
       "      <td>Business Services</td>\n",
       "      <td>$1 to $2 billion (USD)</td>\n",
       "      <td>-1</td>\n",
       "    </tr>\n",
       "    <tr>\n",
       "      <th>2</th>\n",
       "      <td>Data Scientist</td>\n",
       "      <td>$137K-$171K (Glassdoor est.)</td>\n",
       "      <td>Overview\\n\\n\\nAnalysis Group is one of the lar...</td>\n",
       "      <td>3.8</td>\n",
       "      <td>Analysis Group\\n3.8</td>\n",
       "      <td>Boston, MA</td>\n",
       "      <td>Boston, MA</td>\n",
       "      <td>1001 to 5000 employees</td>\n",
       "      <td>1981</td>\n",
       "      <td>Private Practice / Firm</td>\n",
       "      <td>Consulting</td>\n",
       "      <td>Business Services</td>\n",
       "      <td>$100 to $500 million (USD)</td>\n",
       "      <td>-1</td>\n",
       "    </tr>\n",
       "    <tr>\n",
       "      <th>3</th>\n",
       "      <td>Data Scientist</td>\n",
       "      <td>$137K-$171K (Glassdoor est.)</td>\n",
       "      <td>JOB DESCRIPTION:\\n\\nDo you have a passion for ...</td>\n",
       "      <td>3.5</td>\n",
       "      <td>INFICON\\n3.5</td>\n",
       "      <td>Newton, MA</td>\n",
       "      <td>Bad Ragaz, Switzerland</td>\n",
       "      <td>501 to 1000 employees</td>\n",
       "      <td>2000</td>\n",
       "      <td>Company - Public</td>\n",
       "      <td>Electrical &amp; Electronic Manufacturing</td>\n",
       "      <td>Manufacturing</td>\n",
       "      <td>$100 to $500 million (USD)</td>\n",
       "      <td>MKS Instruments, Pfeiffer Vacuum, Agilent Tech...</td>\n",
       "    </tr>\n",
       "    <tr>\n",
       "      <th>4</th>\n",
       "      <td>Data Scientist</td>\n",
       "      <td>$137K-$171K (Glassdoor est.)</td>\n",
       "      <td>Data Scientist\\nAffinity Solutions / Marketing...</td>\n",
       "      <td>2.9</td>\n",
       "      <td>Affinity Solutions\\n2.9</td>\n",
       "      <td>New York, NY</td>\n",
       "      <td>New York, NY</td>\n",
       "      <td>51 to 200 employees</td>\n",
       "      <td>1998</td>\n",
       "      <td>Company - Private</td>\n",
       "      <td>Advertising &amp; Marketing</td>\n",
       "      <td>Business Services</td>\n",
       "      <td>Unknown / Non-Applicable</td>\n",
       "      <td>Commerce Signals, Cardlytics, Yodlee</td>\n",
       "    </tr>\n",
       "  </tbody>\n",
       "</table>\n",
       "</div>"
      ],
      "text/plain": [
       "               Job Title               Salary Estimate  \\\n",
       "index                                                    \n",
       "0      Sr Data Scientist  $137K-$171K (Glassdoor est.)   \n",
       "1         Data Scientist  $137K-$171K (Glassdoor est.)   \n",
       "2         Data Scientist  $137K-$171K (Glassdoor est.)   \n",
       "3         Data Scientist  $137K-$171K (Glassdoor est.)   \n",
       "4         Data Scientist  $137K-$171K (Glassdoor est.)   \n",
       "\n",
       "                                         Job Description  Rating  \\\n",
       "index                                                              \n",
       "0      Description\\n\\nThe Senior Data Scientist is re...     3.1   \n",
       "1      Secure our Nation, Ignite your Future\\n\\nJoin ...     4.2   \n",
       "2      Overview\\n\\n\\nAnalysis Group is one of the lar...     3.8   \n",
       "3      JOB DESCRIPTION:\\n\\nDo you have a passion for ...     3.5   \n",
       "4      Data Scientist\\nAffinity Solutions / Marketing...     2.9   \n",
       "\n",
       "                  Company Name       Location            Headquarters  \\\n",
       "index                                                                   \n",
       "0             Healthfirst\\n3.1   New York, NY            New York, NY   \n",
       "1                 ManTech\\n4.2  Chantilly, VA             Herndon, VA   \n",
       "2          Analysis Group\\n3.8     Boston, MA              Boston, MA   \n",
       "3                 INFICON\\n3.5     Newton, MA  Bad Ragaz, Switzerland   \n",
       "4      Affinity Solutions\\n2.9   New York, NY            New York, NY   \n",
       "\n",
       "                          Size  Founded        Type of ownership  \\\n",
       "index                                                              \n",
       "0       1001 to 5000 employees     1993   Nonprofit Organization   \n",
       "1      5001 to 10000 employees     1968         Company - Public   \n",
       "2       1001 to 5000 employees     1981  Private Practice / Firm   \n",
       "3        501 to 1000 employees     2000         Company - Public   \n",
       "4          51 to 200 employees     1998        Company - Private   \n",
       "\n",
       "                                    Industry             Sector  \\\n",
       "index                                                             \n",
       "0                         Insurance Carriers          Insurance   \n",
       "1                     Research & Development  Business Services   \n",
       "2                                 Consulting  Business Services   \n",
       "3      Electrical & Electronic Manufacturing      Manufacturing   \n",
       "4                    Advertising & Marketing  Business Services   \n",
       "\n",
       "                          Revenue  \\\n",
       "index                               \n",
       "0        Unknown / Non-Applicable   \n",
       "1          $1 to $2 billion (USD)   \n",
       "2      $100 to $500 million (USD)   \n",
       "3      $100 to $500 million (USD)   \n",
       "4        Unknown / Non-Applicable   \n",
       "\n",
       "                                             Competitors  \n",
       "index                                                     \n",
       "0                EmblemHealth, UnitedHealth Group, Aetna  \n",
       "1                                                     -1  \n",
       "2                                                     -1  \n",
       "3      MKS Instruments, Pfeiffer Vacuum, Agilent Tech...  \n",
       "4                   Commerce Signals, Cardlytics, Yodlee  "
      ]
     },
     "execution_count": 2,
     "metadata": {},
     "output_type": "execute_result"
    }
   ],
   "source": [
    "df = pd.read_csv('/kaggle/input/data-science-job-posting-on-glassdoor/Uncleaned_DS_jobs.csv', index_col=0)\n",
    "df.head()"
   ]
  },
  {
   "cell_type": "markdown",
   "id": "0c5741cc",
   "metadata": {
    "papermill": {
     "duration": 0.006201,
     "end_time": "2024-02-16T13:35:24.660257",
     "exception": false,
     "start_time": "2024-02-16T13:35:24.654056",
     "status": "completed"
    },
    "tags": []
   },
   "source": [
    "First we will look its columns."
   ]
  },
  {
   "cell_type": "code",
   "execution_count": 3,
   "id": "1dbcf48a",
   "metadata": {
    "execution": {
     "iopub.execute_input": "2024-02-16T13:35:24.675439Z",
     "iopub.status.busy": "2024-02-16T13:35:24.674750Z",
     "iopub.status.idle": "2024-02-16T13:35:24.681031Z",
     "shell.execute_reply": "2024-02-16T13:35:24.680099Z"
    },
    "papermill": {
     "duration": 0.015997,
     "end_time": "2024-02-16T13:35:24.682793",
     "exception": false,
     "start_time": "2024-02-16T13:35:24.666796",
     "status": "completed"
    },
    "tags": []
   },
   "outputs": [
    {
     "data": {
      "text/plain": [
       "Index(['Job Title', 'Salary Estimate', 'Job Description', 'Rating',\n",
       "       'Company Name', 'Location', 'Headquarters', 'Size', 'Founded',\n",
       "       'Type of ownership', 'Industry', 'Sector', 'Revenue', 'Competitors'],\n",
       "      dtype='object')"
      ]
     },
     "execution_count": 3,
     "metadata": {},
     "output_type": "execute_result"
    }
   ],
   "source": [
    "df.columns"
   ]
  },
  {
   "cell_type": "code",
   "execution_count": 4,
   "id": "c7dcff25",
   "metadata": {
    "execution": {
     "iopub.execute_input": "2024-02-16T13:35:24.698066Z",
     "iopub.status.busy": "2024-02-16T13:35:24.697403Z",
     "iopub.status.idle": "2024-02-16T13:35:24.724819Z",
     "shell.execute_reply": "2024-02-16T13:35:24.722588Z"
    },
    "papermill": {
     "duration": 0.038521,
     "end_time": "2024-02-16T13:35:24.728107",
     "exception": false,
     "start_time": "2024-02-16T13:35:24.689586",
     "status": "completed"
    },
    "tags": []
   },
   "outputs": [
    {
     "name": "stdout",
     "output_type": "stream",
     "text": [
      "<class 'pandas.core.frame.DataFrame'>\n",
      "Index: 672 entries, 0 to 671\n",
      "Data columns (total 14 columns):\n",
      " #   Column             Non-Null Count  Dtype  \n",
      "---  ------             --------------  -----  \n",
      " 0   Job Title          672 non-null    object \n",
      " 1   Salary Estimate    672 non-null    object \n",
      " 2   Job Description    672 non-null    object \n",
      " 3   Rating             672 non-null    float64\n",
      " 4   Company Name       672 non-null    object \n",
      " 5   Location           672 non-null    object \n",
      " 6   Headquarters       672 non-null    object \n",
      " 7   Size               672 non-null    object \n",
      " 8   Founded            672 non-null    int64  \n",
      " 9   Type of ownership  672 non-null    object \n",
      " 10  Industry           672 non-null    object \n",
      " 11  Sector             672 non-null    object \n",
      " 12  Revenue            672 non-null    object \n",
      " 13  Competitors        672 non-null    object \n",
      "dtypes: float64(1), int64(1), object(12)\n",
      "memory usage: 78.8+ KB\n"
     ]
    }
   ],
   "source": [
    "df.info()"
   ]
  },
  {
   "cell_type": "markdown",
   "id": "b8615136",
   "metadata": {
    "papermill": {
     "duration": 0.006788,
     "end_time": "2024-02-16T13:35:24.742719",
     "exception": false,
     "start_time": "2024-02-16T13:35:24.735931",
     "status": "completed"
    },
    "tags": []
   },
   "source": [
    "Look at the information in 'Company Name' column, there are mixed values in this column, we will only extract name of company."
   ]
  },
  {
   "cell_type": "code",
   "execution_count": 5,
   "id": "95950c68",
   "metadata": {
    "execution": {
     "iopub.execute_input": "2024-02-16T13:35:24.760207Z",
     "iopub.status.busy": "2024-02-16T13:35:24.758992Z",
     "iopub.status.idle": "2024-02-16T13:35:24.768580Z",
     "shell.execute_reply": "2024-02-16T13:35:24.767255Z"
    },
    "papermill": {
     "duration": 0.020862,
     "end_time": "2024-02-16T13:35:24.771792",
     "exception": false,
     "start_time": "2024-02-16T13:35:24.750930",
     "status": "completed"
    },
    "tags": []
   },
   "outputs": [
    {
     "data": {
      "text/plain": [
       "index\n",
       "0           Healthfirst\\n3.1\n",
       "1               ManTech\\n4.2\n",
       "2        Analysis Group\\n3.8\n",
       "3               INFICON\\n3.5\n",
       "4    Affinity Solutions\\n2.9\n",
       "Name: Company Name, dtype: object"
      ]
     },
     "execution_count": 5,
     "metadata": {},
     "output_type": "execute_result"
    }
   ],
   "source": [
    "df['Company Name'].head()"
   ]
  },
  {
   "cell_type": "code",
   "execution_count": 6,
   "id": "0bea0d38",
   "metadata": {
    "execution": {
     "iopub.execute_input": "2024-02-16T13:35:24.788022Z",
     "iopub.status.busy": "2024-02-16T13:35:24.787672Z",
     "iopub.status.idle": "2024-02-16T13:35:24.793043Z",
     "shell.execute_reply": "2024-02-16T13:35:24.792170Z"
    },
    "papermill": {
     "duration": 0.01609,
     "end_time": "2024-02-16T13:35:24.795034",
     "exception": false,
     "start_time": "2024-02-16T13:35:24.778944",
     "status": "completed"
    },
    "tags": []
   },
   "outputs": [],
   "source": [
    "df['Company Name'] = df['Company Name'].map(lambda x: x.split('\\n')[0])"
   ]
  },
  {
   "cell_type": "markdown",
   "id": "8efc190e",
   "metadata": {
    "papermill": {
     "duration": 0.006515,
     "end_time": "2024-02-16T13:35:24.808584",
     "exception": false,
     "start_time": "2024-02-16T13:35:24.802069",
     "status": "completed"
    },
    "tags": []
   },
   "source": [
    "And now it is clean!"
   ]
  },
  {
   "cell_type": "code",
   "execution_count": 7,
   "id": "d240cd0e",
   "metadata": {
    "execution": {
     "iopub.execute_input": "2024-02-16T13:35:24.824779Z",
     "iopub.status.busy": "2024-02-16T13:35:24.824367Z",
     "iopub.status.idle": "2024-02-16T13:35:24.833771Z",
     "shell.execute_reply": "2024-02-16T13:35:24.832364Z"
    },
    "papermill": {
     "duration": 0.020204,
     "end_time": "2024-02-16T13:35:24.835882",
     "exception": false,
     "start_time": "2024-02-16T13:35:24.815678",
     "status": "completed"
    },
    "tags": []
   },
   "outputs": [
    {
     "data": {
      "text/plain": [
       "index\n",
       "0           Healthfirst\n",
       "1               ManTech\n",
       "2        Analysis Group\n",
       "3               INFICON\n",
       "4    Affinity Solutions\n",
       "Name: Company Name, dtype: object"
      ]
     },
     "execution_count": 7,
     "metadata": {},
     "output_type": "execute_result"
    }
   ],
   "source": [
    "df['Company Name'].head()"
   ]
  },
  {
   "cell_type": "markdown",
   "id": "2cfef978",
   "metadata": {
    "papermill": {
     "duration": 0.006914,
     "end_time": "2024-02-16T13:35:24.850065",
     "exception": false,
     "start_time": "2024-02-16T13:35:24.843151",
     "status": "completed"
    },
    "tags": []
   },
   "source": [
    "I found '-1' and 'Unknown' values in all columns, we have to replace it 'na'"
   ]
  },
  {
   "cell_type": "code",
   "execution_count": 8,
   "id": "4f238121",
   "metadata": {
    "execution": {
     "iopub.execute_input": "2024-02-16T13:35:24.866973Z",
     "iopub.status.busy": "2024-02-16T13:35:24.866613Z",
     "iopub.status.idle": "2024-02-16T13:35:24.876196Z",
     "shell.execute_reply": "2024-02-16T13:35:24.874534Z"
    },
    "papermill": {
     "duration": 0.021716,
     "end_time": "2024-02-16T13:35:24.879005",
     "exception": false,
     "start_time": "2024-02-16T13:35:24.857289",
     "status": "completed"
    },
    "tags": []
   },
   "outputs": [
    {
     "data": {
      "text/plain": [
       "index\n",
       "100                                         -1\n",
       "101                                         -1\n",
       "102                                         -1\n",
       "103                                         -1\n",
       "104                  Square, PayPal, H&R Block\n",
       "105                                         -1\n",
       "106                                         -1\n",
       "107                                         -1\n",
       "108                                         -1\n",
       "109    Booz Allen Hamilton, CACI International\n",
       "Name: Competitors, dtype: object"
      ]
     },
     "execution_count": 8,
     "metadata": {},
     "output_type": "execute_result"
    }
   ],
   "source": [
    "df.iloc[100:110]['Competitors']"
   ]
  },
  {
   "cell_type": "code",
   "execution_count": 9,
   "id": "b39a1f41",
   "metadata": {
    "execution": {
     "iopub.execute_input": "2024-02-16T13:35:24.896431Z",
     "iopub.status.busy": "2024-02-16T13:35:24.895113Z",
     "iopub.status.idle": "2024-02-16T13:35:24.915934Z",
     "shell.execute_reply": "2024-02-16T13:35:24.914282Z"
    },
    "papermill": {
     "duration": 0.032277,
     "end_time": "2024-02-16T13:35:24.918837",
     "exception": false,
     "start_time": "2024-02-16T13:35:24.886560",
     "status": "completed"
    },
    "tags": []
   },
   "outputs": [],
   "source": [
    "categorical_cols = ['Job Title', 'Salary Estimate', 'Job Description', 'Company Name', 'Location', 'Headquarters', 'Size', 'Type of ownership', 'Industry', 'Sector', 'Revenue', 'Competitors']\n",
    "\n",
    "df[categorical_cols] = df[categorical_cols].replace('-1', 'na')\n",
    "df[categorical_cols] = df[categorical_cols].replace('Unknown', 'na')\n",
    "\n",
    "df['Rating'] = df['Rating'].replace(-1., 0)"
   ]
  },
  {
   "cell_type": "markdown",
   "id": "0ef09c14",
   "metadata": {
    "papermill": {
     "duration": 0.007215,
     "end_time": "2024-02-16T13:35:24.933596",
     "exception": false,
     "start_time": "2024-02-16T13:35:24.926381",
     "status": "completed"
    },
    "tags": []
   },
   "source": [
    "We have got 'Salary Estimate' column, it saves information minimal and maximal estimation of price in it, but it is not good organized, we will fix it."
   ]
  },
  {
   "cell_type": "code",
   "execution_count": 10,
   "id": "8e6b75bd",
   "metadata": {
    "execution": {
     "iopub.execute_input": "2024-02-16T13:35:24.950077Z",
     "iopub.status.busy": "2024-02-16T13:35:24.949688Z",
     "iopub.status.idle": "2024-02-16T13:35:24.959166Z",
     "shell.execute_reply": "2024-02-16T13:35:24.957652Z"
    },
    "papermill": {
     "duration": 0.020929,
     "end_time": "2024-02-16T13:35:24.961899",
     "exception": false,
     "start_time": "2024-02-16T13:35:24.940970",
     "status": "completed"
    },
    "tags": []
   },
   "outputs": [
    {
     "data": {
      "text/plain": [
       "index\n",
       "0    $137K-$171K (Glassdoor est.)\n",
       "1    $137K-$171K (Glassdoor est.)\n",
       "2    $137K-$171K (Glassdoor est.)\n",
       "3    $137K-$171K (Glassdoor est.)\n",
       "4    $137K-$171K (Glassdoor est.)\n",
       "Name: Salary Estimate, dtype: object"
      ]
     },
     "execution_count": 10,
     "metadata": {},
     "output_type": "execute_result"
    }
   ],
   "source": [
    "df['Salary Estimate'].head()"
   ]
  },
  {
   "cell_type": "markdown",
   "id": "783f5991",
   "metadata": {
    "papermill": {
     "duration": 0.007868,
     "end_time": "2024-02-16T13:35:24.977353",
     "exception": false,
     "start_time": "2024-02-16T13:35:24.969485",
     "status": "completed"
    },
    "tags": []
   },
   "source": [
    "While fixing it we will extract minimal and maximal estimation of price to another columns and calculate average price."
   ]
  },
  {
   "cell_type": "code",
   "execution_count": 11,
   "id": "eabc4405",
   "metadata": {
    "execution": {
     "iopub.execute_input": "2024-02-16T13:35:24.994035Z",
     "iopub.status.busy": "2024-02-16T13:35:24.993646Z",
     "iopub.status.idle": "2024-02-16T13:35:25.014646Z",
     "shell.execute_reply": "2024-02-16T13:35:25.013192Z"
    },
    "papermill": {
     "duration": 0.031822,
     "end_time": "2024-02-16T13:35:25.016687",
     "exception": false,
     "start_time": "2024-02-16T13:35:24.984865",
     "status": "completed"
    },
    "tags": []
   },
   "outputs": [],
   "source": [
    "pattern = r'\\$(\\d+)K-\\$(\\d+)K'\n",
    "\n",
    "df[['min_salary', 'max_salary']] = df['Salary Estimate'].str.extract(pattern).astype(int)\n",
    "\n",
    "df['avg_salary'] = df.apply(lambda row: int((row['min_salary'] + row['max_salary']) / 2), axis=1)\n",
    "\n",
    "df['Salary Estimate'] = df['min_salary'].astype(str) + '-' + df['max_salary'].astype(str)"
   ]
  },
  {
   "cell_type": "markdown",
   "id": "78678ad6",
   "metadata": {
    "papermill": {
     "duration": 0.006914,
     "end_time": "2024-02-16T13:35:25.030778",
     "exception": false,
     "start_time": "2024-02-16T13:35:25.023864",
     "status": "completed"
    },
    "tags": []
   },
   "source": [
    "And now it is organized!"
   ]
  },
  {
   "cell_type": "code",
   "execution_count": 12,
   "id": "39081183",
   "metadata": {
    "execution": {
     "iopub.execute_input": "2024-02-16T13:35:25.047828Z",
     "iopub.status.busy": "2024-02-16T13:35:25.047282Z",
     "iopub.status.idle": "2024-02-16T13:35:25.059634Z",
     "shell.execute_reply": "2024-02-16T13:35:25.058449Z"
    },
    "papermill": {
     "duration": 0.023709,
     "end_time": "2024-02-16T13:35:25.061786",
     "exception": false,
     "start_time": "2024-02-16T13:35:25.038077",
     "status": "completed"
    },
    "tags": []
   },
   "outputs": [
    {
     "data": {
      "text/html": [
       "<div>\n",
       "<style scoped>\n",
       "    .dataframe tbody tr th:only-of-type {\n",
       "        vertical-align: middle;\n",
       "    }\n",
       "\n",
       "    .dataframe tbody tr th {\n",
       "        vertical-align: top;\n",
       "    }\n",
       "\n",
       "    .dataframe thead th {\n",
       "        text-align: right;\n",
       "    }\n",
       "</style>\n",
       "<table border=\"1\" class=\"dataframe\">\n",
       "  <thead>\n",
       "    <tr style=\"text-align: right;\">\n",
       "      <th></th>\n",
       "      <th>Salary Estimate</th>\n",
       "      <th>min_salary</th>\n",
       "      <th>max_salary</th>\n",
       "      <th>avg_salary</th>\n",
       "    </tr>\n",
       "    <tr>\n",
       "      <th>index</th>\n",
       "      <th></th>\n",
       "      <th></th>\n",
       "      <th></th>\n",
       "      <th></th>\n",
       "    </tr>\n",
       "  </thead>\n",
       "  <tbody>\n",
       "    <tr>\n",
       "      <th>0</th>\n",
       "      <td>137-171</td>\n",
       "      <td>137</td>\n",
       "      <td>171</td>\n",
       "      <td>154</td>\n",
       "    </tr>\n",
       "    <tr>\n",
       "      <th>1</th>\n",
       "      <td>137-171</td>\n",
       "      <td>137</td>\n",
       "      <td>171</td>\n",
       "      <td>154</td>\n",
       "    </tr>\n",
       "    <tr>\n",
       "      <th>2</th>\n",
       "      <td>137-171</td>\n",
       "      <td>137</td>\n",
       "      <td>171</td>\n",
       "      <td>154</td>\n",
       "    </tr>\n",
       "    <tr>\n",
       "      <th>3</th>\n",
       "      <td>137-171</td>\n",
       "      <td>137</td>\n",
       "      <td>171</td>\n",
       "      <td>154</td>\n",
       "    </tr>\n",
       "    <tr>\n",
       "      <th>4</th>\n",
       "      <td>137-171</td>\n",
       "      <td>137</td>\n",
       "      <td>171</td>\n",
       "      <td>154</td>\n",
       "    </tr>\n",
       "  </tbody>\n",
       "</table>\n",
       "</div>"
      ],
      "text/plain": [
       "      Salary Estimate  min_salary  max_salary  avg_salary\n",
       "index                                                    \n",
       "0             137-171         137         171         154\n",
       "1             137-171         137         171         154\n",
       "2             137-171         137         171         154\n",
       "3             137-171         137         171         154\n",
       "4             137-171         137         171         154"
      ]
     },
     "execution_count": 12,
     "metadata": {},
     "output_type": "execute_result"
    }
   ],
   "source": [
    "df[['Salary Estimate', 'min_salary', 'max_salary', 'avg_salary']].head()"
   ]
  },
  {
   "cell_type": "markdown",
   "id": "e35b71de",
   "metadata": {
    "papermill": {
     "duration": 0.007196,
     "end_time": "2024-02-16T13:35:25.076550",
     "exception": false,
     "start_time": "2024-02-16T13:35:25.069354",
     "status": "completed"
    },
    "tags": []
   },
   "source": [
    "We have a column 'Company Age', there are -1 values in this column, it is good a new column named 'company_age'."
   ]
  },
  {
   "cell_type": "code",
   "execution_count": 13,
   "id": "605f2006",
   "metadata": {
    "execution": {
     "iopub.execute_input": "2024-02-16T13:35:25.093230Z",
     "iopub.status.busy": "2024-02-16T13:35:25.092855Z",
     "iopub.status.idle": "2024-02-16T13:35:25.100210Z",
     "shell.execute_reply": "2024-02-16T13:35:25.098745Z"
    },
    "papermill": {
     "duration": 0.018624,
     "end_time": "2024-02-16T13:35:25.102525",
     "exception": false,
     "start_time": "2024-02-16T13:35:25.083901",
     "status": "completed"
    },
    "tags": []
   },
   "outputs": [],
   "source": [
    "df['company_age'] = df['Founded'].map(lambda x: 2024 - x if x > 0 else 0)"
   ]
  },
  {
   "cell_type": "code",
   "execution_count": 14,
   "id": "ae988a74",
   "metadata": {
    "execution": {
     "iopub.execute_input": "2024-02-16T13:35:25.119430Z",
     "iopub.status.busy": "2024-02-16T13:35:25.119077Z",
     "iopub.status.idle": "2024-02-16T13:35:25.128572Z",
     "shell.execute_reply": "2024-02-16T13:35:25.127033Z"
    },
    "papermill": {
     "duration": 0.020757,
     "end_time": "2024-02-16T13:35:25.131248",
     "exception": false,
     "start_time": "2024-02-16T13:35:25.110491",
     "status": "completed"
    },
    "tags": []
   },
   "outputs": [
    {
     "data": {
      "text/plain": [
       "index\n",
       "0    31\n",
       "1    56\n",
       "2    43\n",
       "3    24\n",
       "4    26\n",
       "Name: company_age, dtype: int64"
      ]
     },
     "execution_count": 14,
     "metadata": {},
     "output_type": "execute_result"
    }
   ],
   "source": [
    "df['company_age'].head()"
   ]
  },
  {
   "cell_type": "markdown",
   "id": "39723c22",
   "metadata": {
    "papermill": {
     "duration": 0.007164,
     "end_time": "2024-02-16T13:35:25.146697",
     "exception": false,
     "start_time": "2024-02-16T13:35:25.139533",
     "status": "completed"
    },
    "tags": []
   },
   "source": [
    "Look at this two columns, 'Location' columns describes where you will work, in office in certain State in USA, 'Headquarters' columns describes where is headquarter of company. If there is a same informations in these two columns it means you will work in headquarter of company, otherwise not, we will create new columns named 'same_state'."
   ]
  },
  {
   "cell_type": "code",
   "execution_count": 15,
   "id": "71f8d610",
   "metadata": {
    "execution": {
     "iopub.execute_input": "2024-02-16T13:35:25.162866Z",
     "iopub.status.busy": "2024-02-16T13:35:25.162511Z",
     "iopub.status.idle": "2024-02-16T13:35:25.172879Z",
     "shell.execute_reply": "2024-02-16T13:35:25.171938Z"
    },
    "papermill": {
     "duration": 0.021485,
     "end_time": "2024-02-16T13:35:25.175377",
     "exception": false,
     "start_time": "2024-02-16T13:35:25.153892",
     "status": "completed"
    },
    "tags": []
   },
   "outputs": [
    {
     "data": {
      "text/html": [
       "<div>\n",
       "<style scoped>\n",
       "    .dataframe tbody tr th:only-of-type {\n",
       "        vertical-align: middle;\n",
       "    }\n",
       "\n",
       "    .dataframe tbody tr th {\n",
       "        vertical-align: top;\n",
       "    }\n",
       "\n",
       "    .dataframe thead th {\n",
       "        text-align: right;\n",
       "    }\n",
       "</style>\n",
       "<table border=\"1\" class=\"dataframe\">\n",
       "  <thead>\n",
       "    <tr style=\"text-align: right;\">\n",
       "      <th></th>\n",
       "      <th>Location</th>\n",
       "      <th>Headquarters</th>\n",
       "    </tr>\n",
       "    <tr>\n",
       "      <th>index</th>\n",
       "      <th></th>\n",
       "      <th></th>\n",
       "    </tr>\n",
       "  </thead>\n",
       "  <tbody>\n",
       "    <tr>\n",
       "      <th>0</th>\n",
       "      <td>New York, NY</td>\n",
       "      <td>New York, NY</td>\n",
       "    </tr>\n",
       "    <tr>\n",
       "      <th>1</th>\n",
       "      <td>Chantilly, VA</td>\n",
       "      <td>Herndon, VA</td>\n",
       "    </tr>\n",
       "    <tr>\n",
       "      <th>2</th>\n",
       "      <td>Boston, MA</td>\n",
       "      <td>Boston, MA</td>\n",
       "    </tr>\n",
       "    <tr>\n",
       "      <th>3</th>\n",
       "      <td>Newton, MA</td>\n",
       "      <td>Bad Ragaz, Switzerland</td>\n",
       "    </tr>\n",
       "    <tr>\n",
       "      <th>4</th>\n",
       "      <td>New York, NY</td>\n",
       "      <td>New York, NY</td>\n",
       "    </tr>\n",
       "  </tbody>\n",
       "</table>\n",
       "</div>"
      ],
      "text/plain": [
       "            Location            Headquarters\n",
       "index                                       \n",
       "0       New York, NY            New York, NY\n",
       "1      Chantilly, VA             Herndon, VA\n",
       "2         Boston, MA              Boston, MA\n",
       "3         Newton, MA  Bad Ragaz, Switzerland\n",
       "4       New York, NY            New York, NY"
      ]
     },
     "execution_count": 15,
     "metadata": {},
     "output_type": "execute_result"
    }
   ],
   "source": [
    "df[['Location', 'Headquarters']].head()"
   ]
  },
  {
   "cell_type": "code",
   "execution_count": 16,
   "id": "e571b4eb",
   "metadata": {
    "execution": {
     "iopub.execute_input": "2024-02-16T13:35:25.192500Z",
     "iopub.status.busy": "2024-02-16T13:35:25.192084Z",
     "iopub.status.idle": "2024-02-16T13:35:25.206231Z",
     "shell.execute_reply": "2024-02-16T13:35:25.205253Z"
    },
    "papermill": {
     "duration": 0.024964,
     "end_time": "2024-02-16T13:35:25.208146",
     "exception": false,
     "start_time": "2024-02-16T13:35:25.183182",
     "status": "completed"
    },
    "tags": []
   },
   "outputs": [],
   "source": [
    "df['same_state'] = df.apply(lambda row: 1 if row['Location'] == row['Headquarters'] else 0, axis=1)"
   ]
  },
  {
   "cell_type": "code",
   "execution_count": 17,
   "id": "d0e6aa0e",
   "metadata": {
    "execution": {
     "iopub.execute_input": "2024-02-16T13:35:25.225303Z",
     "iopub.status.busy": "2024-02-16T13:35:25.224905Z",
     "iopub.status.idle": "2024-02-16T13:35:25.237432Z",
     "shell.execute_reply": "2024-02-16T13:35:25.236521Z"
    },
    "papermill": {
     "duration": 0.023375,
     "end_time": "2024-02-16T13:35:25.239372",
     "exception": false,
     "start_time": "2024-02-16T13:35:25.215997",
     "status": "completed"
    },
    "tags": []
   },
   "outputs": [
    {
     "data": {
      "text/html": [
       "<div>\n",
       "<style scoped>\n",
       "    .dataframe tbody tr th:only-of-type {\n",
       "        vertical-align: middle;\n",
       "    }\n",
       "\n",
       "    .dataframe tbody tr th {\n",
       "        vertical-align: top;\n",
       "    }\n",
       "\n",
       "    .dataframe thead th {\n",
       "        text-align: right;\n",
       "    }\n",
       "</style>\n",
       "<table border=\"1\" class=\"dataframe\">\n",
       "  <thead>\n",
       "    <tr style=\"text-align: right;\">\n",
       "      <th></th>\n",
       "      <th>Location</th>\n",
       "      <th>Headquarters</th>\n",
       "      <th>same_state</th>\n",
       "    </tr>\n",
       "    <tr>\n",
       "      <th>index</th>\n",
       "      <th></th>\n",
       "      <th></th>\n",
       "      <th></th>\n",
       "    </tr>\n",
       "  </thead>\n",
       "  <tbody>\n",
       "    <tr>\n",
       "      <th>0</th>\n",
       "      <td>New York, NY</td>\n",
       "      <td>New York, NY</td>\n",
       "      <td>1</td>\n",
       "    </tr>\n",
       "    <tr>\n",
       "      <th>1</th>\n",
       "      <td>Chantilly, VA</td>\n",
       "      <td>Herndon, VA</td>\n",
       "      <td>0</td>\n",
       "    </tr>\n",
       "    <tr>\n",
       "      <th>2</th>\n",
       "      <td>Boston, MA</td>\n",
       "      <td>Boston, MA</td>\n",
       "      <td>1</td>\n",
       "    </tr>\n",
       "    <tr>\n",
       "      <th>3</th>\n",
       "      <td>Newton, MA</td>\n",
       "      <td>Bad Ragaz, Switzerland</td>\n",
       "      <td>0</td>\n",
       "    </tr>\n",
       "    <tr>\n",
       "      <th>4</th>\n",
       "      <td>New York, NY</td>\n",
       "      <td>New York, NY</td>\n",
       "      <td>1</td>\n",
       "    </tr>\n",
       "  </tbody>\n",
       "</table>\n",
       "</div>"
      ],
      "text/plain": [
       "            Location            Headquarters  same_state\n",
       "index                                                   \n",
       "0       New York, NY            New York, NY           1\n",
       "1      Chantilly, VA             Herndon, VA           0\n",
       "2         Boston, MA              Boston, MA           1\n",
       "3         Newton, MA  Bad Ragaz, Switzerland           0\n",
       "4       New York, NY            New York, NY           1"
      ]
     },
     "execution_count": 17,
     "metadata": {},
     "output_type": "execute_result"
    }
   ],
   "source": [
    "df[['Location', 'Headquarters', 'same_state']].head()"
   ]
  },
  {
   "cell_type": "markdown",
   "id": "e4b97c0c",
   "metadata": {
    "papermill": {
     "duration": 0.007499,
     "end_time": "2024-02-16T13:35:25.254910",
     "exception": false,
     "start_time": "2024-02-16T13:35:25.247411",
     "status": "completed"
    },
    "tags": []
   },
   "source": [
    "As you see there is whole bunch of information in 'Job Description' column, we can not read all these one by one. these very popular technologies used in Data Science:\n",
    "* Python\n",
    "* Excel\n",
    "* Hadoop\n",
    "* Spark\n",
    "* AWS\n",
    "* Tableau\n",
    "* Big Data\n",
    "\n",
    "If employer requires some of these technologies these technologies must be written in 'Job Description' column, we will create 7 boolean (0/1) columns which refer to these 7 technologies."
   ]
  },
  {
   "cell_type": "code",
   "execution_count": 18,
   "id": "d005e7a8",
   "metadata": {
    "execution": {
     "iopub.execute_input": "2024-02-16T13:35:25.271938Z",
     "iopub.status.busy": "2024-02-16T13:35:25.271566Z",
     "iopub.status.idle": "2024-02-16T13:35:25.359751Z",
     "shell.execute_reply": "2024-02-16T13:35:25.358402Z"
    },
    "papermill": {
     "duration": 0.099579,
     "end_time": "2024-02-16T13:35:25.362310",
     "exception": false,
     "start_time": "2024-02-16T13:35:25.262731",
     "status": "completed"
    },
    "tags": []
   },
   "outputs": [],
   "source": [
    "df['python']   = df['Job Description'].map(lambda x: 1 if 'python'   in x.lower() else 0)\n",
    "df['excel']    = df['Job Description'].map(lambda x: 1 if 'excel'    in x.lower() else 0)\n",
    "df['hadoop']   = df['Job Description'].map(lambda x: 1 if 'hadoop'   in x.lower() else 0)\n",
    "df['spark']    = df['Job Description'].map(lambda x: 1 if 'spark'    in x.lower() else 0)\n",
    "df['aws']      = df['Job Description'].map(lambda x: 1 if 'aws'      in x.lower() else 0)\n",
    "df['tableau']  = df['Job Description'].map(lambda x: 1 if 'tableau'  in x.lower() else 0)\n",
    "df['big_data'] = df['Job Description'].map(lambda x: 1 if 'big data' in x.lower() else 0)"
   ]
  },
  {
   "cell_type": "code",
   "execution_count": 19,
   "id": "9e467274",
   "metadata": {
    "execution": {
     "iopub.execute_input": "2024-02-16T13:35:25.380579Z",
     "iopub.status.busy": "2024-02-16T13:35:25.380157Z",
     "iopub.status.idle": "2024-02-16T13:35:25.394412Z",
     "shell.execute_reply": "2024-02-16T13:35:25.393054Z"
    },
    "papermill": {
     "duration": 0.026814,
     "end_time": "2024-02-16T13:35:25.397255",
     "exception": false,
     "start_time": "2024-02-16T13:35:25.370441",
     "status": "completed"
    },
    "tags": []
   },
   "outputs": [
    {
     "data": {
      "text/html": [
       "<div>\n",
       "<style scoped>\n",
       "    .dataframe tbody tr th:only-of-type {\n",
       "        vertical-align: middle;\n",
       "    }\n",
       "\n",
       "    .dataframe tbody tr th {\n",
       "        vertical-align: top;\n",
       "    }\n",
       "\n",
       "    .dataframe thead th {\n",
       "        text-align: right;\n",
       "    }\n",
       "</style>\n",
       "<table border=\"1\" class=\"dataframe\">\n",
       "  <thead>\n",
       "    <tr style=\"text-align: right;\">\n",
       "      <th></th>\n",
       "      <th>python</th>\n",
       "      <th>excel</th>\n",
       "      <th>hadoop</th>\n",
       "      <th>spark</th>\n",
       "      <th>aws</th>\n",
       "      <th>tableau</th>\n",
       "      <th>big_data</th>\n",
       "    </tr>\n",
       "    <tr>\n",
       "      <th>index</th>\n",
       "      <th></th>\n",
       "      <th></th>\n",
       "      <th></th>\n",
       "      <th></th>\n",
       "      <th></th>\n",
       "      <th></th>\n",
       "      <th></th>\n",
       "    </tr>\n",
       "  </thead>\n",
       "  <tbody>\n",
       "    <tr>\n",
       "      <th>0</th>\n",
       "      <td>0</td>\n",
       "      <td>0</td>\n",
       "      <td>0</td>\n",
       "      <td>0</td>\n",
       "      <td>1</td>\n",
       "      <td>0</td>\n",
       "      <td>0</td>\n",
       "    </tr>\n",
       "    <tr>\n",
       "      <th>1</th>\n",
       "      <td>0</td>\n",
       "      <td>0</td>\n",
       "      <td>1</td>\n",
       "      <td>0</td>\n",
       "      <td>0</td>\n",
       "      <td>0</td>\n",
       "      <td>1</td>\n",
       "    </tr>\n",
       "    <tr>\n",
       "      <th>2</th>\n",
       "      <td>1</td>\n",
       "      <td>1</td>\n",
       "      <td>0</td>\n",
       "      <td>0</td>\n",
       "      <td>1</td>\n",
       "      <td>0</td>\n",
       "      <td>0</td>\n",
       "    </tr>\n",
       "    <tr>\n",
       "      <th>3</th>\n",
       "      <td>1</td>\n",
       "      <td>1</td>\n",
       "      <td>0</td>\n",
       "      <td>0</td>\n",
       "      <td>1</td>\n",
       "      <td>0</td>\n",
       "      <td>0</td>\n",
       "    </tr>\n",
       "    <tr>\n",
       "      <th>4</th>\n",
       "      <td>1</td>\n",
       "      <td>1</td>\n",
       "      <td>0</td>\n",
       "      <td>0</td>\n",
       "      <td>0</td>\n",
       "      <td>0</td>\n",
       "      <td>0</td>\n",
       "    </tr>\n",
       "    <tr>\n",
       "      <th>...</th>\n",
       "      <td>...</td>\n",
       "      <td>...</td>\n",
       "      <td>...</td>\n",
       "      <td>...</td>\n",
       "      <td>...</td>\n",
       "      <td>...</td>\n",
       "      <td>...</td>\n",
       "    </tr>\n",
       "    <tr>\n",
       "      <th>667</th>\n",
       "      <td>1</td>\n",
       "      <td>1</td>\n",
       "      <td>1</td>\n",
       "      <td>0</td>\n",
       "      <td>0</td>\n",
       "      <td>1</td>\n",
       "      <td>1</td>\n",
       "    </tr>\n",
       "    <tr>\n",
       "      <th>668</th>\n",
       "      <td>0</td>\n",
       "      <td>0</td>\n",
       "      <td>0</td>\n",
       "      <td>0</td>\n",
       "      <td>0</td>\n",
       "      <td>0</td>\n",
       "      <td>0</td>\n",
       "    </tr>\n",
       "    <tr>\n",
       "      <th>669</th>\n",
       "      <td>1</td>\n",
       "      <td>1</td>\n",
       "      <td>1</td>\n",
       "      <td>0</td>\n",
       "      <td>0</td>\n",
       "      <td>1</td>\n",
       "      <td>0</td>\n",
       "    </tr>\n",
       "    <tr>\n",
       "      <th>670</th>\n",
       "      <td>1</td>\n",
       "      <td>0</td>\n",
       "      <td>1</td>\n",
       "      <td>1</td>\n",
       "      <td>0</td>\n",
       "      <td>0</td>\n",
       "      <td>1</td>\n",
       "    </tr>\n",
       "    <tr>\n",
       "      <th>671</th>\n",
       "      <td>1</td>\n",
       "      <td>1</td>\n",
       "      <td>0</td>\n",
       "      <td>0</td>\n",
       "      <td>0</td>\n",
       "      <td>1</td>\n",
       "      <td>0</td>\n",
       "    </tr>\n",
       "  </tbody>\n",
       "</table>\n",
       "<p>672 rows × 7 columns</p>\n",
       "</div>"
      ],
      "text/plain": [
       "       python  excel  hadoop  spark  aws  tableau  big_data\n",
       "index                                                      \n",
       "0           0      0       0      0    1        0         0\n",
       "1           0      0       1      0    0        0         1\n",
       "2           1      1       0      0    1        0         0\n",
       "3           1      1       0      0    1        0         0\n",
       "4           1      1       0      0    0        0         0\n",
       "...       ...    ...     ...    ...  ...      ...       ...\n",
       "667         1      1       1      0    0        1         1\n",
       "668         0      0       0      0    0        0         0\n",
       "669         1      1       1      0    0        1         0\n",
       "670         1      0       1      1    0        0         1\n",
       "671         1      1       0      0    0        1         0\n",
       "\n",
       "[672 rows x 7 columns]"
      ]
     },
     "execution_count": 19,
     "metadata": {},
     "output_type": "execute_result"
    }
   ],
   "source": [
    "df[['python', 'excel', 'hadoop', 'spark', 'aws', 'tableau', 'big_data']]"
   ]
  },
  {
   "cell_type": "code",
   "execution_count": 20,
   "id": "d4a8633e",
   "metadata": {
    "execution": {
     "iopub.execute_input": "2024-02-16T13:35:25.415710Z",
     "iopub.status.busy": "2024-02-16T13:35:25.415336Z",
     "iopub.status.idle": "2024-02-16T13:35:25.437425Z",
     "shell.execute_reply": "2024-02-16T13:35:25.435986Z"
    },
    "papermill": {
     "duration": 0.0337,
     "end_time": "2024-02-16T13:35:25.439383",
     "exception": false,
     "start_time": "2024-02-16T13:35:25.405683",
     "status": "completed"
    },
    "tags": []
   },
   "outputs": [
    {
     "data": {
      "text/html": [
       "<div>\n",
       "<style scoped>\n",
       "    .dataframe tbody tr th:only-of-type {\n",
       "        vertical-align: middle;\n",
       "    }\n",
       "\n",
       "    .dataframe tbody tr th {\n",
       "        vertical-align: top;\n",
       "    }\n",
       "\n",
       "    .dataframe thead th {\n",
       "        text-align: right;\n",
       "    }\n",
       "</style>\n",
       "<table border=\"1\" class=\"dataframe\">\n",
       "  <thead>\n",
       "    <tr style=\"text-align: right;\">\n",
       "      <th></th>\n",
       "      <th>Job Title</th>\n",
       "      <th>Salary Estimate</th>\n",
       "      <th>Job Description</th>\n",
       "      <th>Rating</th>\n",
       "      <th>Company Name</th>\n",
       "      <th>Location</th>\n",
       "      <th>Headquarters</th>\n",
       "      <th>Size</th>\n",
       "      <th>Founded</th>\n",
       "      <th>Type of ownership</th>\n",
       "      <th>...</th>\n",
       "      <th>avg_salary</th>\n",
       "      <th>company_age</th>\n",
       "      <th>same_state</th>\n",
       "      <th>python</th>\n",
       "      <th>excel</th>\n",
       "      <th>hadoop</th>\n",
       "      <th>spark</th>\n",
       "      <th>aws</th>\n",
       "      <th>tableau</th>\n",
       "      <th>big_data</th>\n",
       "    </tr>\n",
       "    <tr>\n",
       "      <th>index</th>\n",
       "      <th></th>\n",
       "      <th></th>\n",
       "      <th></th>\n",
       "      <th></th>\n",
       "      <th></th>\n",
       "      <th></th>\n",
       "      <th></th>\n",
       "      <th></th>\n",
       "      <th></th>\n",
       "      <th></th>\n",
       "      <th></th>\n",
       "      <th></th>\n",
       "      <th></th>\n",
       "      <th></th>\n",
       "      <th></th>\n",
       "      <th></th>\n",
       "      <th></th>\n",
       "      <th></th>\n",
       "      <th></th>\n",
       "      <th></th>\n",
       "      <th></th>\n",
       "    </tr>\n",
       "  </thead>\n",
       "  <tbody>\n",
       "    <tr>\n",
       "      <th>0</th>\n",
       "      <td>Sr Data Scientist</td>\n",
       "      <td>137-171</td>\n",
       "      <td>Description\\n\\nThe Senior Data Scientist is re...</td>\n",
       "      <td>3.1</td>\n",
       "      <td>Healthfirst</td>\n",
       "      <td>New York, NY</td>\n",
       "      <td>New York, NY</td>\n",
       "      <td>1001 to 5000 employees</td>\n",
       "      <td>1993</td>\n",
       "      <td>Nonprofit Organization</td>\n",
       "      <td>...</td>\n",
       "      <td>154</td>\n",
       "      <td>31</td>\n",
       "      <td>1</td>\n",
       "      <td>0</td>\n",
       "      <td>0</td>\n",
       "      <td>0</td>\n",
       "      <td>0</td>\n",
       "      <td>1</td>\n",
       "      <td>0</td>\n",
       "      <td>0</td>\n",
       "    </tr>\n",
       "    <tr>\n",
       "      <th>1</th>\n",
       "      <td>Data Scientist</td>\n",
       "      <td>137-171</td>\n",
       "      <td>Secure our Nation, Ignite your Future\\n\\nJoin ...</td>\n",
       "      <td>4.2</td>\n",
       "      <td>ManTech</td>\n",
       "      <td>Chantilly, VA</td>\n",
       "      <td>Herndon, VA</td>\n",
       "      <td>5001 to 10000 employees</td>\n",
       "      <td>1968</td>\n",
       "      <td>Company - Public</td>\n",
       "      <td>...</td>\n",
       "      <td>154</td>\n",
       "      <td>56</td>\n",
       "      <td>0</td>\n",
       "      <td>0</td>\n",
       "      <td>0</td>\n",
       "      <td>1</td>\n",
       "      <td>0</td>\n",
       "      <td>0</td>\n",
       "      <td>0</td>\n",
       "      <td>1</td>\n",
       "    </tr>\n",
       "    <tr>\n",
       "      <th>2</th>\n",
       "      <td>Data Scientist</td>\n",
       "      <td>137-171</td>\n",
       "      <td>Overview\\n\\n\\nAnalysis Group is one of the lar...</td>\n",
       "      <td>3.8</td>\n",
       "      <td>Analysis Group</td>\n",
       "      <td>Boston, MA</td>\n",
       "      <td>Boston, MA</td>\n",
       "      <td>1001 to 5000 employees</td>\n",
       "      <td>1981</td>\n",
       "      <td>Private Practice / Firm</td>\n",
       "      <td>...</td>\n",
       "      <td>154</td>\n",
       "      <td>43</td>\n",
       "      <td>1</td>\n",
       "      <td>1</td>\n",
       "      <td>1</td>\n",
       "      <td>0</td>\n",
       "      <td>0</td>\n",
       "      <td>1</td>\n",
       "      <td>0</td>\n",
       "      <td>0</td>\n",
       "    </tr>\n",
       "    <tr>\n",
       "      <th>3</th>\n",
       "      <td>Data Scientist</td>\n",
       "      <td>137-171</td>\n",
       "      <td>JOB DESCRIPTION:\\n\\nDo you have a passion for ...</td>\n",
       "      <td>3.5</td>\n",
       "      <td>INFICON</td>\n",
       "      <td>Newton, MA</td>\n",
       "      <td>Bad Ragaz, Switzerland</td>\n",
       "      <td>501 to 1000 employees</td>\n",
       "      <td>2000</td>\n",
       "      <td>Company - Public</td>\n",
       "      <td>...</td>\n",
       "      <td>154</td>\n",
       "      <td>24</td>\n",
       "      <td>0</td>\n",
       "      <td>1</td>\n",
       "      <td>1</td>\n",
       "      <td>0</td>\n",
       "      <td>0</td>\n",
       "      <td>1</td>\n",
       "      <td>0</td>\n",
       "      <td>0</td>\n",
       "    </tr>\n",
       "    <tr>\n",
       "      <th>4</th>\n",
       "      <td>Data Scientist</td>\n",
       "      <td>137-171</td>\n",
       "      <td>Data Scientist\\nAffinity Solutions / Marketing...</td>\n",
       "      <td>2.9</td>\n",
       "      <td>Affinity Solutions</td>\n",
       "      <td>New York, NY</td>\n",
       "      <td>New York, NY</td>\n",
       "      <td>51 to 200 employees</td>\n",
       "      <td>1998</td>\n",
       "      <td>Company - Private</td>\n",
       "      <td>...</td>\n",
       "      <td>154</td>\n",
       "      <td>26</td>\n",
       "      <td>1</td>\n",
       "      <td>1</td>\n",
       "      <td>1</td>\n",
       "      <td>0</td>\n",
       "      <td>0</td>\n",
       "      <td>0</td>\n",
       "      <td>0</td>\n",
       "      <td>0</td>\n",
       "    </tr>\n",
       "  </tbody>\n",
       "</table>\n",
       "<p>5 rows × 26 columns</p>\n",
       "</div>"
      ],
      "text/plain": [
       "               Job Title Salary Estimate  \\\n",
       "index                                      \n",
       "0      Sr Data Scientist         137-171   \n",
       "1         Data Scientist         137-171   \n",
       "2         Data Scientist         137-171   \n",
       "3         Data Scientist         137-171   \n",
       "4         Data Scientist         137-171   \n",
       "\n",
       "                                         Job Description  Rating  \\\n",
       "index                                                              \n",
       "0      Description\\n\\nThe Senior Data Scientist is re...     3.1   \n",
       "1      Secure our Nation, Ignite your Future\\n\\nJoin ...     4.2   \n",
       "2      Overview\\n\\n\\nAnalysis Group is one of the lar...     3.8   \n",
       "3      JOB DESCRIPTION:\\n\\nDo you have a passion for ...     3.5   \n",
       "4      Data Scientist\\nAffinity Solutions / Marketing...     2.9   \n",
       "\n",
       "             Company Name       Location            Headquarters  \\\n",
       "index                                                              \n",
       "0             Healthfirst   New York, NY            New York, NY   \n",
       "1                 ManTech  Chantilly, VA             Herndon, VA   \n",
       "2          Analysis Group     Boston, MA              Boston, MA   \n",
       "3                 INFICON     Newton, MA  Bad Ragaz, Switzerland   \n",
       "4      Affinity Solutions   New York, NY            New York, NY   \n",
       "\n",
       "                          Size  Founded        Type of ownership  ...  \\\n",
       "index                                                             ...   \n",
       "0       1001 to 5000 employees     1993   Nonprofit Organization  ...   \n",
       "1      5001 to 10000 employees     1968         Company - Public  ...   \n",
       "2       1001 to 5000 employees     1981  Private Practice / Firm  ...   \n",
       "3        501 to 1000 employees     2000         Company - Public  ...   \n",
       "4          51 to 200 employees     1998        Company - Private  ...   \n",
       "\n",
       "      avg_salary company_age same_state python  excel  hadoop  spark  aws  \\\n",
       "index                                                                       \n",
       "0            154          31          1      0      0       0      0    1   \n",
       "1            154          56          0      0      0       1      0    0   \n",
       "2            154          43          1      1      1       0      0    1   \n",
       "3            154          24          0      1      1       0      0    1   \n",
       "4            154          26          1      1      1       0      0    0   \n",
       "\n",
       "       tableau  big_data  \n",
       "index                     \n",
       "0            0         0  \n",
       "1            0         1  \n",
       "2            0         0  \n",
       "3            0         0  \n",
       "4            0         0  \n",
       "\n",
       "[5 rows x 26 columns]"
      ]
     },
     "execution_count": 20,
     "metadata": {},
     "output_type": "execute_result"
    }
   ],
   "source": [
    "df.head()"
   ]
  },
  {
   "cell_type": "markdown",
   "id": "d0ce0ca1",
   "metadata": {
    "papermill": {
     "duration": 0.008276,
     "end_time": "2024-02-16T13:35:25.456510",
     "exception": false,
     "start_time": "2024-02-16T13:35:25.448234",
     "status": "completed"
    },
    "tags": []
   },
   "source": [
    "Now our data is ready to analysis, we will save it into csv file."
   ]
  },
  {
   "cell_type": "code",
   "execution_count": 21,
   "id": "538c5ebb",
   "metadata": {
    "execution": {
     "iopub.execute_input": "2024-02-16T13:35:25.475121Z",
     "iopub.status.busy": "2024-02-16T13:35:25.474775Z",
     "iopub.status.idle": "2024-02-16T13:35:25.525570Z",
     "shell.execute_reply": "2024-02-16T13:35:25.523982Z"
    },
    "papermill": {
     "duration": 0.063373,
     "end_time": "2024-02-16T13:35:25.528488",
     "exception": false,
     "start_time": "2024-02-16T13:35:25.465115",
     "status": "completed"
    },
    "tags": []
   },
   "outputs": [],
   "source": [
    "df.to_csv('DS_Jobs_cleaned.csv', index=False)"
   ]
  }
 ],
 "metadata": {
  "kaggle": {
   "accelerator": "none",
   "dataSources": [
    {
     "datasetId": 1201000,
     "sourceId": 2007201,
     "sourceType": "datasetVersion"
    }
   ],
   "dockerImageVersionId": 30646,
   "isGpuEnabled": false,
   "isInternetEnabled": true,
   "language": "python",
   "sourceType": "notebook"
  },
  "kernelspec": {
   "display_name": "Python 3",
   "language": "python",
   "name": "python3"
  },
  "language_info": {
   "codemirror_mode": {
    "name": "ipython",
    "version": 3
   },
   "file_extension": ".py",
   "mimetype": "text/x-python",
   "name": "python",
   "nbconvert_exporter": "python",
   "pygments_lexer": "ipython3",
   "version": "3.10.13"
  },
  "papermill": {
   "default_parameters": {},
   "duration": 5.229449,
   "end_time": "2024-02-16T13:35:26.058691",
   "environment_variables": {},
   "exception": null,
   "input_path": "__notebook__.ipynb",
   "output_path": "__notebook__.ipynb",
   "parameters": {},
   "start_time": "2024-02-16T13:35:20.829242",
   "version": "2.5.0"
  }
 },
 "nbformat": 4,
 "nbformat_minor": 5
}
