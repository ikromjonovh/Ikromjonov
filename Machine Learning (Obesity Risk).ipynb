{
 "cells": [
  {
   "cell_type": "code",
   "execution_count": 1,
   "id": "27a3a9c7",
   "metadata": {
    "_cell_guid": "b1076dfc-b9ad-4769-8c92-a6c4dae69d19",
    "_uuid": "8f2839f25d086af736a60e9eeb907d3b93b6e0e5",
    "execution": {
     "iopub.execute_input": "2024-02-27T12:27:27.722695Z",
     "iopub.status.busy": "2024-02-27T12:27:27.722223Z",
     "iopub.status.idle": "2024-02-27T12:27:28.877230Z",
     "shell.execute_reply": "2024-02-27T12:27:28.875509Z"
    },
    "papermill": {
     "duration": 1.167471,
     "end_time": "2024-02-27T12:27:28.881069",
     "exception": false,
     "start_time": "2024-02-27T12:27:27.713598",
     "status": "completed"
    },
    "tags": []
   },
   "outputs": [
    {
     "name": "stdout",
     "output_type": "stream",
     "text": [
      "/kaggle/input/obesity-or-cvd-risk-classifyregressorcluster/ObesityDataSet.csv\n",
      "/kaggle/input/playground-series-s4e2/sample_submission.csv\n",
      "/kaggle/input/playground-series-s4e2/train.csv\n",
      "/kaggle/input/playground-series-s4e2/test.csv\n"
     ]
    }
   ],
   "source": [
    "# This Python 3 environment comes with many helpful analytics libraries installed\n",
    "# It is defined by the kaggle/python Docker image: https://github.com/kaggle/docker-python\n",
    "# For example, here's several helpful packages to load\n",
    "\n",
    "import numpy as np # linear algebra\n",
    "import pandas as pd # data processing, CSV file I/O (e.g. pd.read_csv)\n",
    "\n",
    "# Input data files are available in the read-only \"../input/\" directory\n",
    "# For example, running this (by clicking run or pressing Shift+Enter) will list all files under the input directory\n",
    "\n",
    "import os\n",
    "for dirname, _, filenames in os.walk('/kaggle/input'):\n",
    "    for filename in filenames:\n",
    "        print(os.path.join(dirname, filename))\n",
    "\n",
    "# You can write up to 20GB to the current directory (/kaggle/working/) that gets preserved as output when you create a version using \"Save & Run All\" \n",
    "# You can also write temporary files to /kaggle/temp/, but they won't be saved outside of the current session"
   ]
  },
  {
   "cell_type": "markdown",
   "id": "a2cfd272",
   "metadata": {
    "papermill": {
     "duration": 0.005899,
     "end_time": "2024-02-27T12:27:28.894171",
     "exception": false,
     "start_time": "2024-02-27T12:27:28.888272",
     "status": "completed"
    },
    "tags": []
   },
   "source": [
    "# Introduction\n",
    "\n",
    "Today our task is to create a model that predict obesity risk."
   ]
  },
  {
   "cell_type": "markdown",
   "id": "2b77da37",
   "metadata": {
    "papermill": {
     "duration": 0.005962,
     "end_time": "2024-02-27T12:27:28.906361",
     "exception": false,
     "start_time": "2024-02-27T12:27:28.900399",
     "status": "completed"
    },
    "tags": []
   },
   "source": [
    "![](https://sa1s3optim.patientpop.com/assets/images/provider/photos/2647979.jpg)"
   ]
  },
  {
   "cell_type": "markdown",
   "id": "6a66ee3d",
   "metadata": {
    "papermill": {
     "duration": 0.006369,
     "end_time": "2024-02-27T12:27:28.919398",
     "exception": false,
     "start_time": "2024-02-27T12:27:28.913029",
     "status": "completed"
    },
    "tags": []
   },
   "source": [
    "# Libraries\n",
    "\n",
    "Let's start with importing all libraries those we need."
   ]
  },
  {
   "cell_type": "code",
   "execution_count": 2,
   "id": "2a242b28",
   "metadata": {
    "execution": {
     "iopub.execute_input": "2024-02-27T12:27:28.934649Z",
     "iopub.status.busy": "2024-02-27T12:27:28.934084Z",
     "iopub.status.idle": "2024-02-27T12:27:31.568787Z",
     "shell.execute_reply": "2024-02-27T12:27:31.567462Z"
    },
    "papermill": {
     "duration": 2.646832,
     "end_time": "2024-02-27T12:27:31.572428",
     "exception": false,
     "start_time": "2024-02-27T12:27:28.925596",
     "status": "completed"
    },
    "tags": []
   },
   "outputs": [],
   "source": [
    "from sklearn.compose import ColumnTransformer\n",
    "from sklearn.pipeline import Pipeline\n",
    "from sklearn.preprocessing import OneHotEncoder, StandardScaler, FunctionTransformer\n",
    "from sklearn.ensemble import VotingClassifier, RandomForestClassifier\n",
    "from sklearn.metrics import accuracy_score\n",
    "from sklearn.model_selection import StratifiedShuffleSplit\n",
    "from catboost import CatBoostClassifier\n",
    "import xgboost as xgb\n",
    "import pandas as pd\n",
    "import numpy as np"
   ]
  },
  {
   "cell_type": "markdown",
   "id": "217732c5",
   "metadata": {
    "papermill": {
     "duration": 0.006405,
     "end_time": "2024-02-27T12:27:31.587710",
     "exception": false,
     "start_time": "2024-02-27T12:27:31.581305",
     "status": "completed"
    },
    "tags": []
   },
   "source": [
    "# Downloading data\n",
    "\n",
    "Now we have to download data and then create Data Frame."
   ]
  },
  {
   "cell_type": "code",
   "execution_count": 3,
   "id": "c28685ed",
   "metadata": {
    "execution": {
     "iopub.execute_input": "2024-02-27T12:27:31.605600Z",
     "iopub.status.busy": "2024-02-27T12:27:31.605027Z",
     "iopub.status.idle": "2024-02-27T12:27:31.884093Z",
     "shell.execute_reply": "2024-02-27T12:27:31.883180Z"
    },
    "papermill": {
     "duration": 0.291504,
     "end_time": "2024-02-27T12:27:31.886868",
     "exception": false,
     "start_time": "2024-02-27T12:27:31.595364",
     "status": "completed"
    },
    "tags": []
   },
   "outputs": [
    {
     "data": {
      "text/html": [
       "<div>\n",
       "<style scoped>\n",
       "    .dataframe tbody tr th:only-of-type {\n",
       "        vertical-align: middle;\n",
       "    }\n",
       "\n",
       "    .dataframe tbody tr th {\n",
       "        vertical-align: top;\n",
       "    }\n",
       "\n",
       "    .dataframe thead th {\n",
       "        text-align: right;\n",
       "    }\n",
       "</style>\n",
       "<table border=\"1\" class=\"dataframe\">\n",
       "  <thead>\n",
       "    <tr style=\"text-align: right;\">\n",
       "      <th></th>\n",
       "      <th>Gender</th>\n",
       "      <th>Age</th>\n",
       "      <th>Height</th>\n",
       "      <th>Weight</th>\n",
       "      <th>family_history_with_overweight</th>\n",
       "      <th>FAVC</th>\n",
       "      <th>FCVC</th>\n",
       "      <th>NCP</th>\n",
       "      <th>CAEC</th>\n",
       "      <th>SMOKE</th>\n",
       "      <th>CH2O</th>\n",
       "      <th>SCC</th>\n",
       "      <th>FAF</th>\n",
       "      <th>TUE</th>\n",
       "      <th>CALC</th>\n",
       "      <th>MTRANS</th>\n",
       "      <th>NObeyesdad</th>\n",
       "    </tr>\n",
       "  </thead>\n",
       "  <tbody>\n",
       "    <tr>\n",
       "      <th>0</th>\n",
       "      <td>Male</td>\n",
       "      <td>24.443011</td>\n",
       "      <td>1.699998</td>\n",
       "      <td>81.669950</td>\n",
       "      <td>yes</td>\n",
       "      <td>yes</td>\n",
       "      <td>2.000000</td>\n",
       "      <td>2.983297</td>\n",
       "      <td>Sometimes</td>\n",
       "      <td>no</td>\n",
       "      <td>2.763573</td>\n",
       "      <td>no</td>\n",
       "      <td>0.000000</td>\n",
       "      <td>0.976473</td>\n",
       "      <td>Sometimes</td>\n",
       "      <td>Public_Transportation</td>\n",
       "      <td>Overweight_Level_II</td>\n",
       "    </tr>\n",
       "    <tr>\n",
       "      <th>1</th>\n",
       "      <td>Female</td>\n",
       "      <td>18.000000</td>\n",
       "      <td>1.560000</td>\n",
       "      <td>57.000000</td>\n",
       "      <td>yes</td>\n",
       "      <td>yes</td>\n",
       "      <td>2.000000</td>\n",
       "      <td>3.000000</td>\n",
       "      <td>Frequently</td>\n",
       "      <td>no</td>\n",
       "      <td>2.000000</td>\n",
       "      <td>no</td>\n",
       "      <td>1.000000</td>\n",
       "      <td>1.000000</td>\n",
       "      <td>no</td>\n",
       "      <td>Automobile</td>\n",
       "      <td>Normal_Weight</td>\n",
       "    </tr>\n",
       "    <tr>\n",
       "      <th>2</th>\n",
       "      <td>Female</td>\n",
       "      <td>18.000000</td>\n",
       "      <td>1.711460</td>\n",
       "      <td>50.165754</td>\n",
       "      <td>yes</td>\n",
       "      <td>yes</td>\n",
       "      <td>1.880534</td>\n",
       "      <td>1.411685</td>\n",
       "      <td>Sometimes</td>\n",
       "      <td>no</td>\n",
       "      <td>1.910378</td>\n",
       "      <td>no</td>\n",
       "      <td>0.866045</td>\n",
       "      <td>1.673584</td>\n",
       "      <td>no</td>\n",
       "      <td>Public_Transportation</td>\n",
       "      <td>Insufficient_Weight</td>\n",
       "    </tr>\n",
       "    <tr>\n",
       "      <th>3</th>\n",
       "      <td>Female</td>\n",
       "      <td>20.952737</td>\n",
       "      <td>1.710730</td>\n",
       "      <td>131.274851</td>\n",
       "      <td>yes</td>\n",
       "      <td>yes</td>\n",
       "      <td>3.000000</td>\n",
       "      <td>3.000000</td>\n",
       "      <td>Sometimes</td>\n",
       "      <td>no</td>\n",
       "      <td>1.674061</td>\n",
       "      <td>no</td>\n",
       "      <td>1.467863</td>\n",
       "      <td>0.780199</td>\n",
       "      <td>Sometimes</td>\n",
       "      <td>Public_Transportation</td>\n",
       "      <td>Obesity_Type_III</td>\n",
       "    </tr>\n",
       "    <tr>\n",
       "      <th>4</th>\n",
       "      <td>Male</td>\n",
       "      <td>31.641081</td>\n",
       "      <td>1.914186</td>\n",
       "      <td>93.798055</td>\n",
       "      <td>yes</td>\n",
       "      <td>yes</td>\n",
       "      <td>2.679664</td>\n",
       "      <td>1.971472</td>\n",
       "      <td>Sometimes</td>\n",
       "      <td>no</td>\n",
       "      <td>1.979848</td>\n",
       "      <td>no</td>\n",
       "      <td>1.967973</td>\n",
       "      <td>0.931721</td>\n",
       "      <td>Sometimes</td>\n",
       "      <td>Public_Transportation</td>\n",
       "      <td>Overweight_Level_II</td>\n",
       "    </tr>\n",
       "  </tbody>\n",
       "</table>\n",
       "</div>"
      ],
      "text/plain": [
       "   Gender        Age    Height      Weight family_history_with_overweight  \\\n",
       "0    Male  24.443011  1.699998   81.669950                            yes   \n",
       "1  Female  18.000000  1.560000   57.000000                            yes   \n",
       "2  Female  18.000000  1.711460   50.165754                            yes   \n",
       "3  Female  20.952737  1.710730  131.274851                            yes   \n",
       "4    Male  31.641081  1.914186   93.798055                            yes   \n",
       "\n",
       "  FAVC      FCVC       NCP        CAEC SMOKE      CH2O SCC       FAF  \\\n",
       "0  yes  2.000000  2.983297   Sometimes    no  2.763573  no  0.000000   \n",
       "1  yes  2.000000  3.000000  Frequently    no  2.000000  no  1.000000   \n",
       "2  yes  1.880534  1.411685   Sometimes    no  1.910378  no  0.866045   \n",
       "3  yes  3.000000  3.000000   Sometimes    no  1.674061  no  1.467863   \n",
       "4  yes  2.679664  1.971472   Sometimes    no  1.979848  no  1.967973   \n",
       "\n",
       "        TUE       CALC                 MTRANS           NObeyesdad  \n",
       "0  0.976473  Sometimes  Public_Transportation  Overweight_Level_II  \n",
       "1  1.000000         no             Automobile        Normal_Weight  \n",
       "2  1.673584         no  Public_Transportation  Insufficient_Weight  \n",
       "3  0.780199  Sometimes  Public_Transportation     Obesity_Type_III  \n",
       "4  0.931721  Sometimes  Public_Transportation  Overweight_Level_II  "
      ]
     },
     "execution_count": 3,
     "metadata": {},
     "output_type": "execute_result"
    }
   ],
   "source": [
    "df = pd.read_csv('/kaggle/input/playground-series-s4e2/train.csv', index_col=0)\n",
    "\n",
    "original_df = pd.read_csv('/kaggle/input/obesity-or-cvd-risk-classifyregressorcluster/ObesityDataSet.csv')\n",
    "\n",
    "concat_df = pd.concat([df, original_df], axis=0)\n",
    "\n",
    "df = concat_df.drop_duplicates()\n",
    "\n",
    "df.head()"
   ]
  },
  {
   "cell_type": "markdown",
   "id": "542d0507",
   "metadata": {
    "papermill": {
     "duration": 0.006263,
     "end_time": "2024-02-27T12:27:31.899748",
     "exception": false,
     "start_time": "2024-02-27T12:27:31.893485",
     "status": "completed"
    },
    "tags": []
   },
   "source": [
    "# Splitting Data\n",
    "\n",
    "We will split data into train and test set via Stratified Shuffle Split."
   ]
  },
  {
   "cell_type": "code",
   "execution_count": 4,
   "id": "ee46d0a0",
   "metadata": {
    "execution": {
     "iopub.execute_input": "2024-02-27T12:27:31.915090Z",
     "iopub.status.busy": "2024-02-27T12:27:31.914637Z",
     "iopub.status.idle": "2024-02-27T12:27:31.976506Z",
     "shell.execute_reply": "2024-02-27T12:27:31.975450Z"
    },
    "papermill": {
     "duration": 0.072907,
     "end_time": "2024-02-27T12:27:31.979300",
     "exception": false,
     "start_time": "2024-02-27T12:27:31.906393",
     "status": "completed"
    },
    "tags": []
   },
   "outputs": [],
   "source": [
    "stratified_splitter = StratifiedShuffleSplit(n_splits=1, test_size=0.1, random_state=42)\n",
    "\n",
    "for train_index, test_index in stratified_splitter.split(df, df['NObeyesdad']):\n",
    "    train_set = df.iloc[train_index]\n",
    "    test_set = df.iloc[test_index]"
   ]
  },
  {
   "cell_type": "markdown",
   "id": "ffb6e5d8",
   "metadata": {
    "papermill": {
     "duration": 0.006863,
     "end_time": "2024-02-27T12:27:31.993266",
     "exception": false,
     "start_time": "2024-02-27T12:27:31.986403",
     "status": "completed"
    },
    "tags": []
   },
   "source": [
    "# Creating Pipeline\n",
    "\n",
    "We will do all process in one pipeline, the is the best way."
   ]
  },
  {
   "cell_type": "code",
   "execution_count": 5,
   "id": "1b57c32a",
   "metadata": {
    "execution": {
     "iopub.execute_input": "2024-02-27T12:27:32.008532Z",
     "iopub.status.busy": "2024-02-27T12:27:32.008094Z",
     "iopub.status.idle": "2024-02-27T12:27:32.023946Z",
     "shell.execute_reply": "2024-02-27T12:27:32.022992Z"
    },
    "papermill": {
     "duration": 0.026567,
     "end_time": "2024-02-27T12:27:32.026585",
     "exception": false,
     "start_time": "2024-02-27T12:27:32.000018",
     "status": "completed"
    },
    "tags": []
   },
   "outputs": [],
   "source": [
    "# Function to add a new feature 'over_20'\n",
    "def add_over_20_feature(df):\n",
    "    df['over_20'] = df['Age'].map(lambda x: 1 if x > 20 else 0)\n",
    "    return df\n",
    "\n",
    "# Define numerical and categorical columns\n",
    "numerical_cols = ['Age', 'Height', 'Weight', 'FCVC', 'NCP', 'CH2O', 'FAF', 'TUE']\n",
    "categorical_cols = ['Gender', 'CAEC', 'CALC', 'MTRANS', 'family_history_with_overweight', 'FAVC', 'SMOKE', 'SCC']\n",
    "\n",
    "# Create a column transformer for preprocessing\n",
    "preprocessor = ColumnTransformer(\n",
    "    transformers=[\n",
    "        ('numerical', StandardScaler(), numerical_cols),\n",
    "        ('categorical', OneHotEncoder(drop='first'), categorical_cols)\n",
    "    ],\n",
    "    remainder='passthrough'\n",
    ")\n",
    "\n",
    "# Create the full pipeline\n",
    "pipeline = Pipeline([\n",
    "    ('add_feature', FunctionTransformer(add_over_20_feature)),\n",
    "    ('preprocessor', preprocessor),\n",
    "    ('voting_ensemble', VotingClassifier(\n",
    "        estimators=[\n",
    "            ('xgb', xgb.XGBClassifier(\n",
    "                objective='multi:softmax',\n",
    "                num_class=7,\n",
    "                eval_metric='mlogloss',\n",
    "                max_depth=15,\n",
    "                eta=0.1,\n",
    "                subsample=0.8,\n",
    "                colsample_bytree=0.8,\n",
    "                seed=42\n",
    "            )),\n",
    "            ('catboost', CatBoostClassifier(\n",
    "                iterations=500,\n",
    "                learning_rate=0.1,\n",
    "                depth=6,\n",
    "                loss_function='MultiClass',\n",
    "                custom_metric='Accuracy',\n",
    "                random_seed=42,\n",
    "                verbose=False\n",
    "            )),\n",
    "            ('random_forest', RandomForestClassifier(\n",
    "                n_estimators=170,\n",
    "                random_state=42\n",
    "            ))\n",
    "        ],\n",
    "        voting='soft'\n",
    "    ))\n",
    "])"
   ]
  },
  {
   "cell_type": "markdown",
   "id": "419a2a75",
   "metadata": {
    "papermill": {
     "duration": 0.006285,
     "end_time": "2024-02-27T12:27:32.039507",
     "exception": false,
     "start_time": "2024-02-27T12:27:32.033222",
     "status": "completed"
    },
    "tags": []
   },
   "source": [
    "# Training model"
   ]
  },
  {
   "cell_type": "code",
   "execution_count": 6,
   "id": "8a825430",
   "metadata": {
    "execution": {
     "iopub.execute_input": "2024-02-27T12:27:32.058697Z",
     "iopub.status.busy": "2024-02-27T12:27:32.058096Z",
     "iopub.status.idle": "2024-02-27T12:27:54.177882Z",
     "shell.execute_reply": "2024-02-27T12:27:54.176739Z"
    },
    "papermill": {
     "duration": 22.133505,
     "end_time": "2024-02-27T12:27:54.180795",
     "exception": false,
     "start_time": "2024-02-27T12:27:32.047290",
     "status": "completed"
    },
    "tags": []
   },
   "outputs": [
    {
     "data": {
      "text/html": [
       "<style>#sk-container-id-1 {color: black;background-color: white;}#sk-container-id-1 pre{padding: 0;}#sk-container-id-1 div.sk-toggleable {background-color: white;}#sk-container-id-1 label.sk-toggleable__label {cursor: pointer;display: block;width: 100%;margin-bottom: 0;padding: 0.3em;box-sizing: border-box;text-align: center;}#sk-container-id-1 label.sk-toggleable__label-arrow:before {content: \"▸\";float: left;margin-right: 0.25em;color: #696969;}#sk-container-id-1 label.sk-toggleable__label-arrow:hover:before {color: black;}#sk-container-id-1 div.sk-estimator:hover label.sk-toggleable__label-arrow:before {color: black;}#sk-container-id-1 div.sk-toggleable__content {max-height: 0;max-width: 0;overflow: hidden;text-align: left;background-color: #f0f8ff;}#sk-container-id-1 div.sk-toggleable__content pre {margin: 0.2em;color: black;border-radius: 0.25em;background-color: #f0f8ff;}#sk-container-id-1 input.sk-toggleable__control:checked~div.sk-toggleable__content {max-height: 200px;max-width: 100%;overflow: auto;}#sk-container-id-1 input.sk-toggleable__control:checked~label.sk-toggleable__label-arrow:before {content: \"▾\";}#sk-container-id-1 div.sk-estimator input.sk-toggleable__control:checked~label.sk-toggleable__label {background-color: #d4ebff;}#sk-container-id-1 div.sk-label input.sk-toggleable__control:checked~label.sk-toggleable__label {background-color: #d4ebff;}#sk-container-id-1 input.sk-hidden--visually {border: 0;clip: rect(1px 1px 1px 1px);clip: rect(1px, 1px, 1px, 1px);height: 1px;margin: -1px;overflow: hidden;padding: 0;position: absolute;width: 1px;}#sk-container-id-1 div.sk-estimator {font-family: monospace;background-color: #f0f8ff;border: 1px dotted black;border-radius: 0.25em;box-sizing: border-box;margin-bottom: 0.5em;}#sk-container-id-1 div.sk-estimator:hover {background-color: #d4ebff;}#sk-container-id-1 div.sk-parallel-item::after {content: \"\";width: 100%;border-bottom: 1px solid gray;flex-grow: 1;}#sk-container-id-1 div.sk-label:hover label.sk-toggleable__label {background-color: #d4ebff;}#sk-container-id-1 div.sk-serial::before {content: \"\";position: absolute;border-left: 1px solid gray;box-sizing: border-box;top: 0;bottom: 0;left: 50%;z-index: 0;}#sk-container-id-1 div.sk-serial {display: flex;flex-direction: column;align-items: center;background-color: white;padding-right: 0.2em;padding-left: 0.2em;position: relative;}#sk-container-id-1 div.sk-item {position: relative;z-index: 1;}#sk-container-id-1 div.sk-parallel {display: flex;align-items: stretch;justify-content: center;background-color: white;position: relative;}#sk-container-id-1 div.sk-item::before, #sk-container-id-1 div.sk-parallel-item::before {content: \"\";position: absolute;border-left: 1px solid gray;box-sizing: border-box;top: 0;bottom: 0;left: 50%;z-index: -1;}#sk-container-id-1 div.sk-parallel-item {display: flex;flex-direction: column;z-index: 1;position: relative;background-color: white;}#sk-container-id-1 div.sk-parallel-item:first-child::after {align-self: flex-end;width: 50%;}#sk-container-id-1 div.sk-parallel-item:last-child::after {align-self: flex-start;width: 50%;}#sk-container-id-1 div.sk-parallel-item:only-child::after {width: 0;}#sk-container-id-1 div.sk-dashed-wrapped {border: 1px dashed gray;margin: 0 0.4em 0.5em 0.4em;box-sizing: border-box;padding-bottom: 0.4em;background-color: white;}#sk-container-id-1 div.sk-label label {font-family: monospace;font-weight: bold;display: inline-block;line-height: 1.2em;}#sk-container-id-1 div.sk-label-container {text-align: center;}#sk-container-id-1 div.sk-container {/* jupyter's `normalize.less` sets `[hidden] { display: none; }` but bootstrap.min.css set `[hidden] { display: none !important; }` so we also need the `!important` here to be able to override the default hidden behavior on the sphinx rendered scikit-learn.org. See: https://github.com/scikit-learn/scikit-learn/issues/21755 */display: inline-block !important;position: relative;}#sk-container-id-1 div.sk-text-repr-fallback {display: none;}</style><div id=\"sk-container-id-1\" class=\"sk-top-container\"><div class=\"sk-text-repr-fallback\"><pre>Pipeline(steps=[(&#x27;add_feature&#x27;,\n",
       "                 FunctionTransformer(func=&lt;function add_over_20_feature at 0x7b6a33b93250&gt;)),\n",
       "                (&#x27;preprocessor&#x27;,\n",
       "                 ColumnTransformer(remainder=&#x27;passthrough&#x27;,\n",
       "                                   transformers=[(&#x27;numerical&#x27;, StandardScaler(),\n",
       "                                                  [&#x27;Age&#x27;, &#x27;Height&#x27;, &#x27;Weight&#x27;,\n",
       "                                                   &#x27;FCVC&#x27;, &#x27;NCP&#x27;, &#x27;CH2O&#x27;, &#x27;FAF&#x27;,\n",
       "                                                   &#x27;TUE&#x27;]),\n",
       "                                                 (&#x27;categorical&#x27;,\n",
       "                                                  OneHotEncoder(drop=&#x27;first&#x27;),\n",
       "                                                  [&#x27;Gender&#x27;, &#x27;CAEC&#x27;, &#x27;CALC&#x27;,\n",
       "                                                   &#x27;MTRANS&#x27;,\n",
       "                                                   &#x27;family_h...\n",
       "                                                             max_cat_to_onehot=None,\n",
       "                                                             max_delta_step=None,\n",
       "                                                             max_depth=15,\n",
       "                                                             max_leaves=None,\n",
       "                                                             min_child_weight=None,\n",
       "                                                             missing=nan,\n",
       "                                                             monotone_constraints=None,\n",
       "                                                             multi_strategy=None,\n",
       "                                                             n_estimators=None,\n",
       "                                                             n_jobs=None,\n",
       "                                                             num_class=7, ...)),\n",
       "                                              (&#x27;catboost&#x27;,\n",
       "                                               &lt;catboost.core.CatBoostClassifier object at 0x7b6a33bf3f10&gt;),\n",
       "                                              (&#x27;random_forest&#x27;,\n",
       "                                               RandomForestClassifier(n_estimators=170,\n",
       "                                                                      random_state=42))],\n",
       "                                  voting=&#x27;soft&#x27;))])</pre><b>In a Jupyter environment, please rerun this cell to show the HTML representation or trust the notebook. <br />On GitHub, the HTML representation is unable to render, please try loading this page with nbviewer.org.</b></div><div class=\"sk-container\" hidden><div class=\"sk-item sk-dashed-wrapped\"><div class=\"sk-label-container\"><div class=\"sk-label sk-toggleable\"><input class=\"sk-toggleable__control sk-hidden--visually\" id=\"sk-estimator-id-1\" type=\"checkbox\" ><label for=\"sk-estimator-id-1\" class=\"sk-toggleable__label sk-toggleable__label-arrow\">Pipeline</label><div class=\"sk-toggleable__content\"><pre>Pipeline(steps=[(&#x27;add_feature&#x27;,\n",
       "                 FunctionTransformer(func=&lt;function add_over_20_feature at 0x7b6a33b93250&gt;)),\n",
       "                (&#x27;preprocessor&#x27;,\n",
       "                 ColumnTransformer(remainder=&#x27;passthrough&#x27;,\n",
       "                                   transformers=[(&#x27;numerical&#x27;, StandardScaler(),\n",
       "                                                  [&#x27;Age&#x27;, &#x27;Height&#x27;, &#x27;Weight&#x27;,\n",
       "                                                   &#x27;FCVC&#x27;, &#x27;NCP&#x27;, &#x27;CH2O&#x27;, &#x27;FAF&#x27;,\n",
       "                                                   &#x27;TUE&#x27;]),\n",
       "                                                 (&#x27;categorical&#x27;,\n",
       "                                                  OneHotEncoder(drop=&#x27;first&#x27;),\n",
       "                                                  [&#x27;Gender&#x27;, &#x27;CAEC&#x27;, &#x27;CALC&#x27;,\n",
       "                                                   &#x27;MTRANS&#x27;,\n",
       "                                                   &#x27;family_h...\n",
       "                                                             max_cat_to_onehot=None,\n",
       "                                                             max_delta_step=None,\n",
       "                                                             max_depth=15,\n",
       "                                                             max_leaves=None,\n",
       "                                                             min_child_weight=None,\n",
       "                                                             missing=nan,\n",
       "                                                             monotone_constraints=None,\n",
       "                                                             multi_strategy=None,\n",
       "                                                             n_estimators=None,\n",
       "                                                             n_jobs=None,\n",
       "                                                             num_class=7, ...)),\n",
       "                                              (&#x27;catboost&#x27;,\n",
       "                                               &lt;catboost.core.CatBoostClassifier object at 0x7b6a33bf3f10&gt;),\n",
       "                                              (&#x27;random_forest&#x27;,\n",
       "                                               RandomForestClassifier(n_estimators=170,\n",
       "                                                                      random_state=42))],\n",
       "                                  voting=&#x27;soft&#x27;))])</pre></div></div></div><div class=\"sk-serial\"><div class=\"sk-item\"><div class=\"sk-estimator sk-toggleable\"><input class=\"sk-toggleable__control sk-hidden--visually\" id=\"sk-estimator-id-2\" type=\"checkbox\" ><label for=\"sk-estimator-id-2\" class=\"sk-toggleable__label sk-toggleable__label-arrow\">FunctionTransformer</label><div class=\"sk-toggleable__content\"><pre>FunctionTransformer(func=&lt;function add_over_20_feature at 0x7b6a33b93250&gt;)</pre></div></div></div><div class=\"sk-item sk-dashed-wrapped\"><div class=\"sk-label-container\"><div class=\"sk-label sk-toggleable\"><input class=\"sk-toggleable__control sk-hidden--visually\" id=\"sk-estimator-id-3\" type=\"checkbox\" ><label for=\"sk-estimator-id-3\" class=\"sk-toggleable__label sk-toggleable__label-arrow\">preprocessor: ColumnTransformer</label><div class=\"sk-toggleable__content\"><pre>ColumnTransformer(remainder=&#x27;passthrough&#x27;,\n",
       "                  transformers=[(&#x27;numerical&#x27;, StandardScaler(),\n",
       "                                 [&#x27;Age&#x27;, &#x27;Height&#x27;, &#x27;Weight&#x27;, &#x27;FCVC&#x27;, &#x27;NCP&#x27;,\n",
       "                                  &#x27;CH2O&#x27;, &#x27;FAF&#x27;, &#x27;TUE&#x27;]),\n",
       "                                (&#x27;categorical&#x27;, OneHotEncoder(drop=&#x27;first&#x27;),\n",
       "                                 [&#x27;Gender&#x27;, &#x27;CAEC&#x27;, &#x27;CALC&#x27;, &#x27;MTRANS&#x27;,\n",
       "                                  &#x27;family_history_with_overweight&#x27;, &#x27;FAVC&#x27;,\n",
       "                                  &#x27;SMOKE&#x27;, &#x27;SCC&#x27;])])</pre></div></div></div><div class=\"sk-parallel\"><div class=\"sk-parallel-item\"><div class=\"sk-item\"><div class=\"sk-label-container\"><div class=\"sk-label sk-toggleable\"><input class=\"sk-toggleable__control sk-hidden--visually\" id=\"sk-estimator-id-4\" type=\"checkbox\" ><label for=\"sk-estimator-id-4\" class=\"sk-toggleable__label sk-toggleable__label-arrow\">numerical</label><div class=\"sk-toggleable__content\"><pre>[&#x27;Age&#x27;, &#x27;Height&#x27;, &#x27;Weight&#x27;, &#x27;FCVC&#x27;, &#x27;NCP&#x27;, &#x27;CH2O&#x27;, &#x27;FAF&#x27;, &#x27;TUE&#x27;]</pre></div></div></div><div class=\"sk-serial\"><div class=\"sk-item\"><div class=\"sk-estimator sk-toggleable\"><input class=\"sk-toggleable__control sk-hidden--visually\" id=\"sk-estimator-id-5\" type=\"checkbox\" ><label for=\"sk-estimator-id-5\" class=\"sk-toggleable__label sk-toggleable__label-arrow\">StandardScaler</label><div class=\"sk-toggleable__content\"><pre>StandardScaler()</pre></div></div></div></div></div></div><div class=\"sk-parallel-item\"><div class=\"sk-item\"><div class=\"sk-label-container\"><div class=\"sk-label sk-toggleable\"><input class=\"sk-toggleable__control sk-hidden--visually\" id=\"sk-estimator-id-6\" type=\"checkbox\" ><label for=\"sk-estimator-id-6\" class=\"sk-toggleable__label sk-toggleable__label-arrow\">categorical</label><div class=\"sk-toggleable__content\"><pre>[&#x27;Gender&#x27;, &#x27;CAEC&#x27;, &#x27;CALC&#x27;, &#x27;MTRANS&#x27;, &#x27;family_history_with_overweight&#x27;, &#x27;FAVC&#x27;, &#x27;SMOKE&#x27;, &#x27;SCC&#x27;]</pre></div></div></div><div class=\"sk-serial\"><div class=\"sk-item\"><div class=\"sk-estimator sk-toggleable\"><input class=\"sk-toggleable__control sk-hidden--visually\" id=\"sk-estimator-id-7\" type=\"checkbox\" ><label for=\"sk-estimator-id-7\" class=\"sk-toggleable__label sk-toggleable__label-arrow\">OneHotEncoder</label><div class=\"sk-toggleable__content\"><pre>OneHotEncoder(drop=&#x27;first&#x27;)</pre></div></div></div></div></div></div><div class=\"sk-parallel-item\"><div class=\"sk-item\"><div class=\"sk-label-container\"><div class=\"sk-label sk-toggleable\"><input class=\"sk-toggleable__control sk-hidden--visually\" id=\"sk-estimator-id-8\" type=\"checkbox\" ><label for=\"sk-estimator-id-8\" class=\"sk-toggleable__label sk-toggleable__label-arrow\">remainder</label><div class=\"sk-toggleable__content\"><pre>[&#x27;over_20&#x27;]</pre></div></div></div><div class=\"sk-serial\"><div class=\"sk-item\"><div class=\"sk-estimator sk-toggleable\"><input class=\"sk-toggleable__control sk-hidden--visually\" id=\"sk-estimator-id-9\" type=\"checkbox\" ><label for=\"sk-estimator-id-9\" class=\"sk-toggleable__label sk-toggleable__label-arrow\">passthrough</label><div class=\"sk-toggleable__content\"><pre>passthrough</pre></div></div></div></div></div></div></div></div><div class=\"sk-item sk-dashed-wrapped\"><div class=\"sk-label-container\"><div class=\"sk-label sk-toggleable\"><input class=\"sk-toggleable__control sk-hidden--visually\" id=\"sk-estimator-id-10\" type=\"checkbox\" ><label for=\"sk-estimator-id-10\" class=\"sk-toggleable__label sk-toggleable__label-arrow\">voting_ensemble: VotingClassifier</label><div class=\"sk-toggleable__content\"><pre>VotingClassifier(estimators=[(&#x27;xgb&#x27;,\n",
       "                              XGBClassifier(base_score=None, booster=None,\n",
       "                                            callbacks=None,\n",
       "                                            colsample_bylevel=None,\n",
       "                                            colsample_bynode=None,\n",
       "                                            colsample_bytree=0.8, device=None,\n",
       "                                            early_stopping_rounds=None,\n",
       "                                            enable_categorical=False, eta=0.1,\n",
       "                                            eval_metric=&#x27;mlogloss&#x27;,\n",
       "                                            feature_types=None, gamma=None,\n",
       "                                            grow_policy=None,\n",
       "                                            importance_type=None,\n",
       "                                            interaction_constraints=Non...\n",
       "                                            max_cat_to_onehot=None,\n",
       "                                            max_delta_step=None, max_depth=15,\n",
       "                                            max_leaves=None,\n",
       "                                            min_child_weight=None, missing=nan,\n",
       "                                            monotone_constraints=None,\n",
       "                                            multi_strategy=None,\n",
       "                                            n_estimators=None, n_jobs=None,\n",
       "                                            num_class=7, ...)),\n",
       "                             (&#x27;catboost&#x27;,\n",
       "                              &lt;catboost.core.CatBoostClassifier object at 0x7b6a33bf3f10&gt;),\n",
       "                             (&#x27;random_forest&#x27;,\n",
       "                              RandomForestClassifier(n_estimators=170,\n",
       "                                                     random_state=42))],\n",
       "                 voting=&#x27;soft&#x27;)</pre></div></div></div><div class=\"sk-parallel\"><div class=\"sk-parallel-item\"><div class=\"sk-item\"><div class=\"sk-label-container\"><div class=\"sk-label sk-toggleable\"><label>xgb</label></div></div><div class=\"sk-serial\"><div class=\"sk-item\"><div class=\"sk-estimator sk-toggleable\"><input class=\"sk-toggleable__control sk-hidden--visually\" id=\"sk-estimator-id-11\" type=\"checkbox\" ><label for=\"sk-estimator-id-11\" class=\"sk-toggleable__label sk-toggleable__label-arrow\">XGBClassifier</label><div class=\"sk-toggleable__content\"><pre>XGBClassifier(base_score=None, booster=None, callbacks=None,\n",
       "              colsample_bylevel=None, colsample_bynode=None,\n",
       "              colsample_bytree=0.8, device=None, early_stopping_rounds=None,\n",
       "              enable_categorical=False, eta=0.1, eval_metric=&#x27;mlogloss&#x27;,\n",
       "              feature_types=None, gamma=None, grow_policy=None,\n",
       "              importance_type=None, interaction_constraints=None,\n",
       "              learning_rate=None, max_bin=None, max_cat_threshold=None,\n",
       "              max_cat_to_onehot=None, max_delta_step=None, max_depth=15,\n",
       "              max_leaves=None, min_child_weight=None, missing=nan,\n",
       "              monotone_constraints=None, multi_strategy=None, n_estimators=None,\n",
       "              n_jobs=None, num_class=7, ...)</pre></div></div></div></div></div></div><div class=\"sk-parallel-item\"><div class=\"sk-item\"><div class=\"sk-label-container\"><div class=\"sk-label sk-toggleable\"><label>catboost</label></div></div><div class=\"sk-serial\"><div class=\"sk-item\"><div class=\"sk-estimator sk-toggleable\"><input class=\"sk-toggleable__control sk-hidden--visually\" id=\"sk-estimator-id-12\" type=\"checkbox\" ><label for=\"sk-estimator-id-12\" class=\"sk-toggleable__label sk-toggleable__label-arrow\">CatBoostClassifier</label><div class=\"sk-toggleable__content\"><pre>&lt;catboost.core.CatBoostClassifier object at 0x7b6a33bf3f10&gt;</pre></div></div></div></div></div></div><div class=\"sk-parallel-item\"><div class=\"sk-item\"><div class=\"sk-label-container\"><div class=\"sk-label sk-toggleable\"><label>random_forest</label></div></div><div class=\"sk-serial\"><div class=\"sk-item\"><div class=\"sk-estimator sk-toggleable\"><input class=\"sk-toggleable__control sk-hidden--visually\" id=\"sk-estimator-id-13\" type=\"checkbox\" ><label for=\"sk-estimator-id-13\" class=\"sk-toggleable__label sk-toggleable__label-arrow\">RandomForestClassifier</label><div class=\"sk-toggleable__content\"><pre>RandomForestClassifier(n_estimators=170, random_state=42)</pre></div></div></div></div></div></div></div></div></div></div></div></div>"
      ],
      "text/plain": [
       "Pipeline(steps=[('add_feature',\n",
       "                 FunctionTransformer(func=<function add_over_20_feature at 0x7b6a33b93250>)),\n",
       "                ('preprocessor',\n",
       "                 ColumnTransformer(remainder='passthrough',\n",
       "                                   transformers=[('numerical', StandardScaler(),\n",
       "                                                  ['Age', 'Height', 'Weight',\n",
       "                                                   'FCVC', 'NCP', 'CH2O', 'FAF',\n",
       "                                                   'TUE']),\n",
       "                                                 ('categorical',\n",
       "                                                  OneHotEncoder(drop='first'),\n",
       "                                                  ['Gender', 'CAEC', 'CALC',\n",
       "                                                   'MTRANS',\n",
       "                                                   'family_h...\n",
       "                                                             max_cat_to_onehot=None,\n",
       "                                                             max_delta_step=None,\n",
       "                                                             max_depth=15,\n",
       "                                                             max_leaves=None,\n",
       "                                                             min_child_weight=None,\n",
       "                                                             missing=nan,\n",
       "                                                             monotone_constraints=None,\n",
       "                                                             multi_strategy=None,\n",
       "                                                             n_estimators=None,\n",
       "                                                             n_jobs=None,\n",
       "                                                             num_class=7, ...)),\n",
       "                                              ('catboost',\n",
       "                                               <catboost.core.CatBoostClassifier object at 0x7b6a33bf3f10>),\n",
       "                                              ('random_forest',\n",
       "                                               RandomForestClassifier(n_estimators=170,\n",
       "                                                                      random_state=42))],\n",
       "                                  voting='soft'))])"
      ]
     },
     "execution_count": 6,
     "metadata": {},
     "output_type": "execute_result"
    }
   ],
   "source": [
    "# Separate features and target variable\n",
    "X_train = train_set.drop(['NObeyesdad'], axis=1)\n",
    "y_train = train_set['NObeyesdad'].copy()\n",
    "\n",
    "# Fit the pipeline on the training data\n",
    "pipeline.fit(X_train, y_train)"
   ]
  },
  {
   "cell_type": "markdown",
   "id": "2e52a519",
   "metadata": {
    "papermill": {
     "duration": 0.00694,
     "end_time": "2024-02-27T12:27:54.195037",
     "exception": false,
     "start_time": "2024-02-27T12:27:54.188097",
     "status": "completed"
    },
    "tags": []
   },
   "source": [
    "# Evaluating the model"
   ]
  },
  {
   "cell_type": "code",
   "execution_count": 7,
   "id": "c6e293ad",
   "metadata": {
    "execution": {
     "iopub.execute_input": "2024-02-27T12:27:54.212314Z",
     "iopub.status.busy": "2024-02-27T12:27:54.211869Z",
     "iopub.status.idle": "2024-02-27T12:27:54.461720Z",
     "shell.execute_reply": "2024-02-27T12:27:54.460731Z"
    },
    "papermill": {
     "duration": 0.262289,
     "end_time": "2024-02-27T12:27:54.464516",
     "exception": false,
     "start_time": "2024-02-27T12:27:54.202227",
     "status": "completed"
    },
    "tags": []
   },
   "outputs": [
    {
     "name": "stdout",
     "output_type": "stream",
     "text": [
      "Pipeline Test Accuracy: 0.912035010940919\n"
     ]
    }
   ],
   "source": [
    "# Make predictions on the test set\n",
    "X_test = test_set.drop(['NObeyesdad'], axis=1)\n",
    "y_test = test_set['NObeyesdad'].copy()\n",
    "pipeline_predictions = pipeline.predict(X_test)\n",
    "\n",
    "# Evaluate the ensemble model\n",
    "test_accuracy_pipeline = accuracy_score(y_test, pipeline_predictions)\n",
    "print(f'Pipeline Test Accuracy: {test_accuracy_pipeline}')"
   ]
  },
  {
   "cell_type": "markdown",
   "id": "60124ba6",
   "metadata": {
    "papermill": {
     "duration": 0.007057,
     "end_time": "2024-02-27T12:27:54.478885",
     "exception": false,
     "start_time": "2024-02-27T12:27:54.471828",
     "status": "completed"
    },
    "tags": []
   },
   "source": [
    "Accuracy of model is 91.2%, which some how good."
   ]
  },
  {
   "cell_type": "markdown",
   "id": "8067f6de",
   "metadata": {
    "papermill": {
     "duration": 0.007496,
     "end_time": "2024-02-27T12:27:54.493750",
     "exception": false,
     "start_time": "2024-02-27T12:27:54.486254",
     "status": "completed"
    },
    "tags": []
   },
   "source": [
    "# Preparing .csv file for sumbission"
   ]
  },
  {
   "cell_type": "code",
   "execution_count": 8,
   "id": "a4dbda28",
   "metadata": {
    "execution": {
     "iopub.execute_input": "2024-02-27T12:27:54.511646Z",
     "iopub.status.busy": "2024-02-27T12:27:54.510924Z",
     "iopub.status.idle": "2024-02-27T12:27:55.677330Z",
     "shell.execute_reply": "2024-02-27T12:27:55.675851Z"
    },
    "papermill": {
     "duration": 1.17928,
     "end_time": "2024-02-27T12:27:55.680386",
     "exception": false,
     "start_time": "2024-02-27T12:27:54.501106",
     "status": "completed"
    },
    "tags": []
   },
   "outputs": [],
   "source": [
    "# Creating test_df dataframe from test.csv\n",
    "test_df = pd.read_csv('/kaggle/input/playground-series-s4e2/test.csv')\n",
    "\n",
    "# Make predictions on the submission set\n",
    "submission_predictions = pipeline.predict(test_df)\n",
    "\n",
    "# Create a DataFrame for the submission\n",
    "submission_df = test_df[['id']].copy()\n",
    "submission_df['NObeyesdad'] = submission_predictions\n",
    "\n",
    "# Save the submission DataFrame to a CSV file\n",
    "submission_df.to_csv('submission.csv', index=False)"
   ]
  }
 ],
 "metadata": {
  "kaggle": {
   "accelerator": "none",
   "dataSources": [
    {
     "databundleVersionId": 7609535,
     "sourceId": 68479,
     "sourceType": "competition"
    },
    {
     "datasetId": 4030196,
     "sourceId": 7009925,
     "sourceType": "datasetVersion"
    }
   ],
   "dockerImageVersionId": 30646,
   "isGpuEnabled": false,
   "isInternetEnabled": true,
   "language": "python",
   "sourceType": "notebook"
  },
  "kernelspec": {
   "display_name": "Python 3",
   "language": "python",
   "name": "python3"
  },
  "language_info": {
   "codemirror_mode": {
    "name": "ipython",
    "version": 3
   },
   "file_extension": ".py",
   "mimetype": "text/x-python",
   "name": "python",
   "nbconvert_exporter": "python",
   "pygments_lexer": "ipython3",
   "version": "3.10.13"
  },
  "papermill": {
   "default_parameters": {},
   "duration": 32.038091,
   "end_time": "2024-02-27T12:27:56.411209",
   "environment_variables": {},
   "exception": null,
   "input_path": "__notebook__.ipynb",
   "output_path": "__notebook__.ipynb",
   "parameters": {},
   "start_time": "2024-02-27T12:27:24.373118",
   "version": "2.5.0"
  }
 },
 "nbformat": 4,
 "nbformat_minor": 5
}
