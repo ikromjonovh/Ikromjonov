{
 "cells": [
  {
   "cell_type": "code",
   "execution_count": 1,
   "id": "d16c50ee",
   "metadata": {
    "_cell_guid": "b1076dfc-b9ad-4769-8c92-a6c4dae69d19",
    "_uuid": "8f2839f25d086af736a60e9eeb907d3b93b6e0e5",
    "execution": {
     "iopub.execute_input": "2024-02-07T09:38:26.992493Z",
     "iopub.status.busy": "2024-02-07T09:38:26.991905Z",
     "iopub.status.idle": "2024-02-07T09:38:27.843215Z",
     "shell.execute_reply": "2024-02-07T09:38:27.841648Z"
    },
    "papermill": {
     "duration": 0.85936,
     "end_time": "2024-02-07T09:38:27.845708",
     "exception": false,
     "start_time": "2024-02-07T09:38:26.986348",
     "status": "completed"
    },
    "tags": []
   },
   "outputs": [
    {
     "name": "stdout",
     "output_type": "stream",
     "text": [
      "/kaggle/input/avia-company-satisfaction/sample_submission.csv\n",
      "/kaggle/input/avia-company-satisfaction/train_dataset.csv\n",
      "/kaggle/input/avia-company-satisfaction/test_dataset.csv\n"
     ]
    }
   ],
   "source": [
    "# This Python 3 environment comes with many helpful analytics libraries installed\n",
    "# It is defined by the kaggle/python Docker image: https://github.com/kaggle/docker-python\n",
    "# For example, here's several helpful packages to load\n",
    "\n",
    "import numpy as np # linear algebra\n",
    "import pandas as pd # data processing, CSV file I/O (e.g. pd.read_csv)\n",
    "\n",
    "# Input data files are available in the read-only \"../input/\" directory\n",
    "# For example, running this (by clicking run or pressing Shift+Enter) will list all files under the input directory\n",
    "\n",
    "import os\n",
    "for dirname, _, filenames in os.walk('/kaggle/input'):\n",
    "    for filename in filenames:\n",
    "        print(os.path.join(dirname, filename))\n",
    "\n",
    "# You can write up to 20GB to the current directory (/kaggle/working/) that gets preserved as output when you create a version using \"Save & Run All\" \n",
    "# You can also write temporary files to /kaggle/temp/, but they won't be saved outside of the current session"
   ]
  },
  {
   "cell_type": "markdown",
   "id": "1ebbdac1",
   "metadata": {
    "papermill": {
     "duration": 0.002994,
     "end_time": "2024-02-07T09:38:27.852274",
     "exception": false,
     "start_time": "2024-02-07T09:38:27.849280",
     "status": "completed"
    },
    "tags": []
   },
   "source": [
    "# **Our task is to predict wheather the customer of Avia Company is safisfied from sevices.**\n",
    "#   \n",
    "# **Let's start with import all libaries those we need.**"
   ]
  },
  {
   "cell_type": "code",
   "execution_count": 2,
   "id": "cd1bfa5e",
   "metadata": {
    "execution": {
     "iopub.execute_input": "2024-02-07T09:38:27.860240Z",
     "iopub.status.busy": "2024-02-07T09:38:27.859809Z",
     "iopub.status.idle": "2024-02-07T09:38:29.608052Z",
     "shell.execute_reply": "2024-02-07T09:38:29.606754Z"
    },
    "papermill": {
     "duration": 1.754833,
     "end_time": "2024-02-07T09:38:29.610235",
     "exception": false,
     "start_time": "2024-02-07T09:38:27.855402",
     "status": "completed"
    },
    "tags": []
   },
   "outputs": [],
   "source": [
    "from sklearn.pipeline import Pipeline\n",
    "from sklearn.compose import ColumnTransformer\n",
    "from sklearn.impute import SimpleImputer\n",
    "from sklearn.preprocessing import StandardScaler, OneHotEncoder\n",
    "from sklearn.ensemble import RandomForestClassifier\n",
    "from xgboost import XGBClassifier\n",
    "from sklearn.ensemble import StackingClassifier\n",
    "from sklearn.linear_model import LogisticRegression\n",
    "from sklearn.metrics import accuracy_score\n",
    "from sklearn.model_selection import StratifiedShuffleSplit\n",
    "import pandas as pd\n",
    "import numpy  as np"
   ]
  },
  {
   "cell_type": "markdown",
   "id": "67513d8d",
   "metadata": {
    "papermill": {
     "duration": 0.002851,
     "end_time": "2024-02-07T09:38:29.616249",
     "exception": false,
     "start_time": "2024-02-07T09:38:29.613398",
     "status": "completed"
    },
    "tags": []
   },
   "source": [
    "# **First we download the train dataset.**"
   ]
  },
  {
   "cell_type": "code",
   "execution_count": 3,
   "id": "d3681bcf",
   "metadata": {
    "execution": {
     "iopub.execute_input": "2024-02-07T09:38:29.623271Z",
     "iopub.status.busy": "2024-02-07T09:38:29.622992Z",
     "iopub.status.idle": "2024-02-07T09:38:29.696766Z",
     "shell.execute_reply": "2024-02-07T09:38:29.695942Z"
    },
    "papermill": {
     "duration": 0.079628,
     "end_time": "2024-02-07T09:38:29.698762",
     "exception": false,
     "start_time": "2024-02-07T09:38:29.619134",
     "status": "completed"
    },
    "tags": []
   },
   "outputs": [
    {
     "data": {
      "text/html": [
       "<div>\n",
       "<style scoped>\n",
       "    .dataframe tbody tr th:only-of-type {\n",
       "        vertical-align: middle;\n",
       "    }\n",
       "\n",
       "    .dataframe tbody tr th {\n",
       "        vertical-align: top;\n",
       "    }\n",
       "\n",
       "    .dataframe thead th {\n",
       "        text-align: right;\n",
       "    }\n",
       "</style>\n",
       "<table border=\"1\" class=\"dataframe\">\n",
       "  <thead>\n",
       "    <tr style=\"text-align: right;\">\n",
       "      <th></th>\n",
       "      <th>Gender</th>\n",
       "      <th>Customer Type</th>\n",
       "      <th>Age</th>\n",
       "      <th>Type of Travel</th>\n",
       "      <th>Class</th>\n",
       "      <th>Flight Distance</th>\n",
       "      <th>Inflight wifi service</th>\n",
       "      <th>Departure/Arrival time convenient</th>\n",
       "      <th>Ease of Online booking</th>\n",
       "      <th>Gate location</th>\n",
       "      <th>...</th>\n",
       "      <th>Inflight entertainment</th>\n",
       "      <th>On-board service</th>\n",
       "      <th>Leg room service</th>\n",
       "      <th>Baggage handling</th>\n",
       "      <th>Checkin service</th>\n",
       "      <th>Inflight service</th>\n",
       "      <th>Cleanliness</th>\n",
       "      <th>Departure Delay in Minutes</th>\n",
       "      <th>Arrival Delay in Minutes</th>\n",
       "      <th>satisfaction</th>\n",
       "    </tr>\n",
       "    <tr>\n",
       "      <th>id</th>\n",
       "      <th></th>\n",
       "      <th></th>\n",
       "      <th></th>\n",
       "      <th></th>\n",
       "      <th></th>\n",
       "      <th></th>\n",
       "      <th></th>\n",
       "      <th></th>\n",
       "      <th></th>\n",
       "      <th></th>\n",
       "      <th></th>\n",
       "      <th></th>\n",
       "      <th></th>\n",
       "      <th></th>\n",
       "      <th></th>\n",
       "      <th></th>\n",
       "      <th></th>\n",
       "      <th></th>\n",
       "      <th></th>\n",
       "      <th></th>\n",
       "      <th></th>\n",
       "    </tr>\n",
       "  </thead>\n",
       "  <tbody>\n",
       "    <tr>\n",
       "      <th>1</th>\n",
       "      <td>Male</td>\n",
       "      <td>disloyal Customer</td>\n",
       "      <td>33</td>\n",
       "      <td>Business travel</td>\n",
       "      <td>Eco</td>\n",
       "      <td>571</td>\n",
       "      <td>2</td>\n",
       "      <td>3</td>\n",
       "      <td>2</td>\n",
       "      <td>4</td>\n",
       "      <td>...</td>\n",
       "      <td>4</td>\n",
       "      <td>3</td>\n",
       "      <td>1</td>\n",
       "      <td>3</td>\n",
       "      <td>4</td>\n",
       "      <td>3</td>\n",
       "      <td>4</td>\n",
       "      <td>10</td>\n",
       "      <td>3.0</td>\n",
       "      <td>0</td>\n",
       "    </tr>\n",
       "    <tr>\n",
       "      <th>2</th>\n",
       "      <td>Female</td>\n",
       "      <td>Loyal Customer</td>\n",
       "      <td>49</td>\n",
       "      <td>Business travel</td>\n",
       "      <td>Business</td>\n",
       "      <td>1431</td>\n",
       "      <td>4</td>\n",
       "      <td>1</td>\n",
       "      <td>4</td>\n",
       "      <td>4</td>\n",
       "      <td>...</td>\n",
       "      <td>5</td>\n",
       "      <td>5</td>\n",
       "      <td>5</td>\n",
       "      <td>5</td>\n",
       "      <td>3</td>\n",
       "      <td>5</td>\n",
       "      <td>3</td>\n",
       "      <td>0</td>\n",
       "      <td>0.0</td>\n",
       "      <td>1</td>\n",
       "    </tr>\n",
       "    <tr>\n",
       "      <th>3</th>\n",
       "      <td>Female</td>\n",
       "      <td>Loyal Customer</td>\n",
       "      <td>43</td>\n",
       "      <td>Business travel</td>\n",
       "      <td>Eco</td>\n",
       "      <td>867</td>\n",
       "      <td>1</td>\n",
       "      <td>4</td>\n",
       "      <td>4</td>\n",
       "      <td>4</td>\n",
       "      <td>...</td>\n",
       "      <td>1</td>\n",
       "      <td>1</td>\n",
       "      <td>1</td>\n",
       "      <td>1</td>\n",
       "      <td>1</td>\n",
       "      <td>1</td>\n",
       "      <td>2</td>\n",
       "      <td>0</td>\n",
       "      <td>18.0</td>\n",
       "      <td>0</td>\n",
       "    </tr>\n",
       "    <tr>\n",
       "      <th>4</th>\n",
       "      <td>Female</td>\n",
       "      <td>Loyal Customer</td>\n",
       "      <td>27</td>\n",
       "      <td>Business travel</td>\n",
       "      <td>Business</td>\n",
       "      <td>1550</td>\n",
       "      <td>3</td>\n",
       "      <td>3</td>\n",
       "      <td>3</td>\n",
       "      <td>3</td>\n",
       "      <td>...</td>\n",
       "      <td>2</td>\n",
       "      <td>4</td>\n",
       "      <td>4</td>\n",
       "      <td>5</td>\n",
       "      <td>5</td>\n",
       "      <td>4</td>\n",
       "      <td>2</td>\n",
       "      <td>0</td>\n",
       "      <td>0.0</td>\n",
       "      <td>1</td>\n",
       "    </tr>\n",
       "    <tr>\n",
       "      <th>5</th>\n",
       "      <td>Male</td>\n",
       "      <td>Loyal Customer</td>\n",
       "      <td>11</td>\n",
       "      <td>Personal Travel</td>\n",
       "      <td>Eco</td>\n",
       "      <td>526</td>\n",
       "      <td>3</td>\n",
       "      <td>4</td>\n",
       "      <td>3</td>\n",
       "      <td>2</td>\n",
       "      <td>...</td>\n",
       "      <td>4</td>\n",
       "      <td>5</td>\n",
       "      <td>2</td>\n",
       "      <td>5</td>\n",
       "      <td>3</td>\n",
       "      <td>5</td>\n",
       "      <td>4</td>\n",
       "      <td>0</td>\n",
       "      <td>10.0</td>\n",
       "      <td>0</td>\n",
       "    </tr>\n",
       "  </tbody>\n",
       "</table>\n",
       "<p>5 rows × 23 columns</p>\n",
       "</div>"
      ],
      "text/plain": [
       "    Gender      Customer Type  Age   Type of Travel     Class  \\\n",
       "id                                                              \n",
       "1     Male  disloyal Customer   33  Business travel       Eco   \n",
       "2   Female     Loyal Customer   49  Business travel  Business   \n",
       "3   Female     Loyal Customer   43  Business travel       Eco   \n",
       "4   Female     Loyal Customer   27  Business travel  Business   \n",
       "5     Male     Loyal Customer   11  Personal Travel       Eco   \n",
       "\n",
       "    Flight Distance  Inflight wifi service  Departure/Arrival time convenient  \\\n",
       "id                                                                              \n",
       "1               571                      2                                  3   \n",
       "2              1431                      4                                  1   \n",
       "3               867                      1                                  4   \n",
       "4              1550                      3                                  3   \n",
       "5               526                      3                                  4   \n",
       "\n",
       "    Ease of Online booking  Gate location  ...  Inflight entertainment  \\\n",
       "id                                         ...                           \n",
       "1                        2              4  ...                       4   \n",
       "2                        4              4  ...                       5   \n",
       "3                        4              4  ...                       1   \n",
       "4                        3              3  ...                       2   \n",
       "5                        3              2  ...                       4   \n",
       "\n",
       "    On-board service  Leg room service  Baggage handling  Checkin service  \\\n",
       "id                                                                          \n",
       "1                  3                 1                 3                4   \n",
       "2                  5                 5                 5                3   \n",
       "3                  1                 1                 1                1   \n",
       "4                  4                 4                 5                5   \n",
       "5                  5                 2                 5                3   \n",
       "\n",
       "    Inflight service  Cleanliness  Departure Delay in Minutes  \\\n",
       "id                                                              \n",
       "1                  3            4                          10   \n",
       "2                  5            3                           0   \n",
       "3                  1            2                           0   \n",
       "4                  4            2                           0   \n",
       "5                  5            4                           0   \n",
       "\n",
       "    Arrival Delay in Minutes  satisfaction  \n",
       "id                                          \n",
       "1                        3.0             0  \n",
       "2                        0.0             1  \n",
       "3                       18.0             0  \n",
       "4                        0.0             1  \n",
       "5                       10.0             0  \n",
       "\n",
       "[5 rows x 23 columns]"
      ]
     },
     "execution_count": 3,
     "metadata": {},
     "output_type": "execute_result"
    }
   ],
   "source": [
    "df = pd.read_csv('/kaggle/input/avia-company-satisfaction/train_dataset.csv', index_col=0)\n",
    "df.head()"
   ]
  },
  {
   "cell_type": "markdown",
   "id": "44841a3f",
   "metadata": {
    "papermill": {
     "duration": 0.003077,
     "end_time": "2024-02-07T09:38:29.705491",
     "exception": false,
     "start_time": "2024-02-07T09:38:29.702414",
     "status": "completed"
    },
    "tags": []
   },
   "source": [
    "# **Then we split it into train and test sets.**"
   ]
  },
  {
   "cell_type": "code",
   "execution_count": 4,
   "id": "07e7fd1c",
   "metadata": {
    "execution": {
     "iopub.execute_input": "2024-02-07T09:38:29.714066Z",
     "iopub.status.busy": "2024-02-07T09:38:29.713485Z",
     "iopub.status.idle": "2024-02-07T09:38:29.727518Z",
     "shell.execute_reply": "2024-02-07T09:38:29.726438Z"
    },
    "papermill": {
     "duration": 0.020414,
     "end_time": "2024-02-07T09:38:29.729222",
     "exception": false,
     "start_time": "2024-02-07T09:38:29.708808",
     "status": "completed"
    },
    "tags": []
   },
   "outputs": [],
   "source": [
    "stratified_splitter = StratifiedShuffleSplit(n_splits=1, test_size=0.1, random_state=42)\n",
    "\n",
    "for train_index, test_index in stratified_splitter.split(df, df['satisfaction']):\n",
    "    train_set = df.iloc[train_index]\n",
    "    test_set = df.iloc[test_index]"
   ]
  },
  {
   "cell_type": "markdown",
   "id": "9c5d1c54",
   "metadata": {
    "papermill": {
     "duration": 0.003054,
     "end_time": "2024-02-07T09:38:29.735962",
     "exception": false,
     "start_time": "2024-02-07T09:38:29.732908",
     "status": "completed"
    },
    "tags": []
   },
   "source": [
    "# **We should split both train and test data into X and y parts.**"
   ]
  },
  {
   "cell_type": "code",
   "execution_count": 5,
   "id": "1812b7fc",
   "metadata": {
    "execution": {
     "iopub.execute_input": "2024-02-07T09:38:29.744057Z",
     "iopub.status.busy": "2024-02-07T09:38:29.743704Z",
     "iopub.status.idle": "2024-02-07T09:38:29.751157Z",
     "shell.execute_reply": "2024-02-07T09:38:29.750396Z"
    },
    "papermill": {
     "duration": 0.013749,
     "end_time": "2024-02-07T09:38:29.752914",
     "exception": false,
     "start_time": "2024-02-07T09:38:29.739165",
     "status": "completed"
    },
    "tags": []
   },
   "outputs": [],
   "source": [
    "X_train = train_set.drop(['satisfaction'], axis=1)\n",
    "X_test  = test_set.drop(['satisfaction'], axis=1)\n",
    "\n",
    "y_train = train_set['satisfaction'].copy()\n",
    "y_test  = test_set['satisfaction'].copy()"
   ]
  },
  {
   "cell_type": "markdown",
   "id": "89c6df09",
   "metadata": {
    "papermill": {
     "duration": 0.00304,
     "end_time": "2024-02-07T09:38:29.759298",
     "exception": false,
     "start_time": "2024-02-07T09:38:29.756258",
     "status": "completed"
    },
    "tags": []
   },
   "source": [
    "# **Then we create pipeline with model.**"
   ]
  },
  {
   "cell_type": "code",
   "execution_count": 6,
   "id": "069930ad",
   "metadata": {
    "execution": {
     "iopub.execute_input": "2024-02-07T09:38:29.766784Z",
     "iopub.status.busy": "2024-02-07T09:38:29.766470Z",
     "iopub.status.idle": "2024-02-07T09:39:34.949196Z",
     "shell.execute_reply": "2024-02-07T09:39:34.947708Z"
    },
    "papermill": {
     "duration": 65.188895,
     "end_time": "2024-02-07T09:39:34.951343",
     "exception": false,
     "start_time": "2024-02-07T09:38:29.762448",
     "status": "completed"
    },
    "tags": []
   },
   "outputs": [
    {
     "name": "stdout",
     "output_type": "stream",
     "text": [
      "Stacking Model Accuracy: 0.954\n"
     ]
    }
   ],
   "source": [
    "numeric_columns = X_train.select_dtypes(include=['number']).columns.tolist()\n",
    "categorical_columns = X_train.select_dtypes(include=['object']).columns.tolist()\n",
    "\n",
    "numeric_transformer = Pipeline(steps=[\n",
    "    ('imputer', SimpleImputer(strategy='mean')),\n",
    "    ('scaler', StandardScaler())\n",
    "])\n",
    "\n",
    "categorical_transformer = Pipeline(steps=[\n",
    "    ('imputer', SimpleImputer(strategy='most_frequent')),\n",
    "    ('onehot', OneHotEncoder(handle_unknown='ignore'))\n",
    "])\n",
    "\n",
    "preprocessor = ColumnTransformer(\n",
    "    transformers=[\n",
    "        ('num', numeric_transformer, numeric_columns),\n",
    "        ('cat', categorical_transformer, categorical_columns)\n",
    "    ])\n",
    "\n",
    "base_models = [\n",
    "    ('rf', RandomForestClassifier(\n",
    "        n_estimators=1000,\n",
    "        criterion='gini',\n",
    "        min_samples_split=3,\n",
    "        min_samples_leaf=1,\n",
    "        random_state=80\n",
    "    )),\n",
    "    ('xgb', XGBClassifier(\n",
    "        n_estimators=500,\n",
    "        learning_rate=0.05,\n",
    "        max_depth=50,\n",
    "        min_child_weight=5,\n",
    "        subsample=1.0,\n",
    "        colsample_bytree=1.0,\n",
    "        gamma=1,\n",
    "        reg_alpha=0,\n",
    "        reg_lambda=50,\n",
    "        scale_pos_weight=70,\n",
    "        random_state=80\n",
    "    ))\n",
    "]\n",
    "\n",
    "stacking_model = StackingClassifier(estimators=base_models, final_estimator=LogisticRegression())\n",
    "\n",
    "pipeline = Pipeline(steps=[\n",
    "    ('preprocessor', preprocessor),\n",
    "    ('stacking', stacking_model)\n",
    "])\n",
    "\n",
    "pipeline.fit(X_train, y_train)\n",
    "\n",
    "stacking_predictions = pipeline.predict(X_test)\n",
    "\n",
    "stacking_accuracy = accuracy_score(y_test, stacking_predictions)\n",
    "print(f\"Stacking Model Accuracy: {stacking_accuracy}\")"
   ]
  },
  {
   "cell_type": "markdown",
   "id": "08b3a148",
   "metadata": {
    "papermill": {
     "duration": 0.003262,
     "end_time": "2024-02-07T09:39:34.958559",
     "exception": false,
     "start_time": "2024-02-07T09:39:34.955297",
     "status": "completed"
    },
    "tags": []
   },
   "source": [
    "# Now you can see accuracy of our model is 95.4%, the treshold was 95%.\n",
    "\n",
    "# It is time to download test dataset, predict it, and then prepare results to submission."
   ]
  },
  {
   "cell_type": "code",
   "execution_count": 7,
   "id": "ecddad09",
   "metadata": {
    "execution": {
     "iopub.execute_input": "2024-02-07T09:39:34.967016Z",
     "iopub.status.busy": "2024-02-07T09:39:34.966697Z",
     "iopub.status.idle": "2024-02-07T09:39:35.489572Z",
     "shell.execute_reply": "2024-02-07T09:39:35.488688Z"
    },
    "papermill": {
     "duration": 0.529811,
     "end_time": "2024-02-07T09:39:35.491889",
     "exception": false,
     "start_time": "2024-02-07T09:39:34.962078",
     "status": "completed"
    },
    "tags": []
   },
   "outputs": [],
   "source": [
    "test_df = pd.read_csv('/kaggle/input/avia-company-satisfaction/test_dataset.csv', index_col=0)\n",
    "\n",
    "test_prediction = pipeline.predict(test_df)\n",
    "\n",
    "submission_df = pd.DataFrame({\n",
    "    'id': test_df.index,\n",
    "    'satisfaction': test_prediction\n",
    "})\n",
    "\n",
    "submission_df.to_csv('submission.csv', index=False)"
   ]
  }
 ],
 "metadata": {
  "kaggle": {
   "accelerator": "none",
   "dataSources": [
    {
     "datasetId": 4412264,
     "sourceId": 7579742,
     "sourceType": "datasetVersion"
    }
   ],
   "dockerImageVersionId": 30646,
   "isGpuEnabled": false,
   "isInternetEnabled": true,
   "language": "python",
   "sourceType": "notebook"
  },
  "kernelspec": {
   "display_name": "Python 3",
   "language": "python",
   "name": "python3"
  },
  "language_info": {
   "codemirror_mode": {
    "name": "ipython",
    "version": 3
   },
   "file_extension": ".py",
   "mimetype": "text/x-python",
   "name": "python",
   "nbconvert_exporter": "python",
   "pygments_lexer": "ipython3",
   "version": "3.10.13"
  },
  "papermill": {
   "default_parameters": {},
   "duration": 71.524527,
   "end_time": "2024-02-07T09:39:36.116337",
   "environment_variables": {},
   "exception": null,
   "input_path": "__notebook__.ipynb",
   "output_path": "__notebook__.ipynb",
   "parameters": {},
   "start_time": "2024-02-07T09:38:24.591810",
   "version": "2.5.0"
  }
 },
 "nbformat": 4,
 "nbformat_minor": 5
}
